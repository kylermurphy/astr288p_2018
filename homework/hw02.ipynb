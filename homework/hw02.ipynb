{
 "cells": [
  {
   "cell_type": "markdown",
   "metadata": {},
   "source": [
    "## ASTR288P Assignment 2\n",
    "Assigned: 2018/02/19 4PM\n",
    "\n",
    "Due:      2018/03/05 2PM\n",
    "## Instructions\n",
    "Please place the answers to these questions in this notebook and place the notebook in\n",
    "\n",
    "~/ASTR288P/homework/`<your_username`>_hw02.ipynb\n",
    "\n",
    "**NOTE**\n",
    "1. The collection script is case sensitive so please use all lowercase!\n",
    "2. For coding questions I need to be able to run your code and get the correct ouput in the Notebook. Your code also needs to be readable, so include comments or other documentation so that users know what the code is doing. \n",
    "\n",
    "## Conceptual Questions\n",
    "\n",
    "**1 (4 Marks)**: Imagine your $PATH contains the following: \n",
    "\n",
    "```\n",
    "    /usr/bin/:/home/yourname/miniconda/bin/:/science/\n",
    "\n",
    "```\n",
    "\n",
    "and you have the following binaries installed in in the following directories:\n",
    "```\n",
    "    python:             /usr/bin/\n",
    "    python:             /home/yourname/miniconda/bin/\n",
    "    science_code1:      /science/\n",
    "    science_code2:      /home/yourname/work/some_code/\n",
    "```\n",
    "\n",
    "What would happen you run the following commands. For instance, which programs **specifically** start or are executed (if any), or what error messages would be given?\n",
    "\n",
    "Note that these are **conceptual** questions, so you can't really try them in the command line! \n",
    "\n",
    "```\n",
    "    >> cd ~/   #no response needed for this one, but ensures we're at home.\n",
    "    >> which python\n",
    "    >> \n",
    "    >> python\n",
    "    >> \n",
    "    >> /home/yourname/miniconda/bin/python\n",
    "    >> \n",
    "    >> science_code1\n",
    "    >> ./science_code1\n",
    "    >> cd /home/yourname/work/some_code/ #no response required...\n",
    "    >> science_code2\n",
    "    >> ./science_code2\n",
    "\n",
    "```\n",
    "\n",
    "---"
   ]
  },
  {
   "cell_type": "markdown",
   "metadata": {
    "collapsed": true
   },
   "source": [
    "### Place your answerss in this cell\n",
    "\n",
    "**Try formatting your answers nicely in Markdown, using a mix of text blocks and coding blocks.**\n",
    "\n",
    "---"
   ]
  },
  {
   "cell_type": "markdown",
   "metadata": {},
   "source": [
    "## Coding Questions\n",
    "\n",
    "**2 (5 Marks)**: Write a snippet of code that computes the sum of all even numbers up to and including an ineger value **n**. Test this for a few small values of **n**, even and odd. Print out the sum for n=999 and n=1000. What happened if you set **n** to be a negative number? "
   ]
  },
  {
   "cell_type": "code",
   "execution_count": 10,
   "metadata": {
    "collapsed": true
   },
   "outputs": [],
   "source": [
    "##Place your code and answer in this cell. Add more cells if you require them."
   ]
  },
  {
   "cell_type": "markdown",
   "metadata": {},
   "source": [
    "**3 (10 Marks) **:\n",
    "\n",
    "Write a function named ```calc_Req``` that calculates and returns the equivalent resistance of an electronic cirtcuit that has two resistors in parallel or two resistors in series. Your code will need to able to distinguish between the user selecting _parallel_ or _series_ and will need to take as input $R_1$ and $R_2$ and return $R_t$. \n",
    "\n",
    "The function ```calc_Req```  will also need to be able to tell when an incorrect input is provided. For instance if a user specifies something other then _parallel_ or _series_, provides no input for the type circuit, or provides a negative resistance. This is referred to as a _ValueError_; print an error message to screen if any of the inputs are incorrect. Demonstrate that the function works by including the output for the 8 test cases below.\n",
    "\n",
    "Recall that for a series electric circuit, \n",
    "\n",
    "$$\n",
    "R_{eq} = R_1 + R_2\n",
    "$$\n",
    "\n",
    "and for a parallel electric circuit\n",
    "\n",
    "$$\n",
    "\\frac{1}{R_{eq}} = \\frac{1}{R_1} + \\frac{1}{R_2}\n",
    "$$\n",
    "\n",
    "Test your code on the following configurations: \n",
    "\n",
    "1. $R_1$ = 100 $\\Omega$, $R_2$ = 100 $\\Omega$, series   \n",
    "1. $R_1$ = 100 $\\Omega$, $R_2$ = 100 $\\Omega$, parallel \n",
    "1. $R_1$ = 200 $\\Omega$, $R_2$ = 750 $\\Omega$, series\n",
    "1. $R_1$ = 200 $\\Omega$, $R_2$ = 750 $\\Omega$, parallel\n",
    "1. $R_1$ = 500 $\\Omega$, $R_2$ = 5 M$\\Omega$, parallel\n",
    "1. $R_1$ = -10 $\\Omega$, $R_2$ = 25 M$\\Omega$, parallel\n",
    "1. $R_1$ = 20 $\\Omega$, $R_2$ = -5 M$\\Omega$, series\n",
    "1. $R_1$ = 40 $\\Omega$, $R_2$ = 25 M$\\Omega$, perpendicular\n",
    "\n",
    "\n",
    "**Bonus!**: **(1 marks)** Implement the \"error catching\" using Python Exceptions. The type of exception relevant to this example is the 'ValueError'. Use the following commands: 'try', 'raise', 'ValueError' and demonstrate what happens if invalid inputs are given to your function. "
   ]
  },
  {
   "cell_type": "code",
   "execution_count": 11,
   "metadata": {
    "collapsed": true
   },
   "outputs": [],
   "source": [
    "### Place your code in this cell. Add more cells if you require them."
   ]
  }
 ],
 "metadata": {
  "kernelspec": {
   "display_name": "Python 2",
   "language": "python",
   "name": "python2"
  },
  "language_info": {
   "codemirror_mode": {
    "name": "ipython",
    "version": 2
   },
   "file_extension": ".py",
   "mimetype": "text/x-python",
   "name": "python",
   "nbconvert_exporter": "python",
   "pygments_lexer": "ipython2",
   "version": "2.7.13"
  }
 },
 "nbformat": 4,
 "nbformat_minor": 2
}
