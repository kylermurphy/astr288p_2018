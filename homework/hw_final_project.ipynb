{
 "cells": [
  {
   "cell_type": "markdown",
   "metadata": {},
   "source": [
    "# Assignment 6 / Final Project\n",
    "Assigned: 2018/03/12 4PM\n",
    "\n",
    "Due:      2018/04/29 12PM **note the time** \n"
   ]
  },
  {
   "cell_type": "markdown",
   "metadata": {},
   "source": [
    "## Instructions\n",
    "\n",
    "The final homework is due on April 29 at **noon**. The homework will be a presentation and complete Jupyter Notebook where you will show the installation and an example computation/analysis of a software package from http://ascl.net. Be sure to pick something that interests you and not something that looks easy. \n",
    "\n",
    "There will be in in-class presentation and discussion on the cases. The marking breakdown will be as follows:\n",
    " - Presentation: 60% of project grade. (36 marks)\n",
    " - Notebook (see below): 40% of project grade. (24 marks)\n",
    "\n",
    "Your presentation will be 15 minutes long, 12 minutes for the presentation and 2-3 minutes for questions. This will be strictly timed and part of your presenation grade so be sure to stay on time. Presentations over the 12 minute limit or those which are well short of 12 minutes will be docked marks. \n",
    "\n",
    "Your presenation can be in the form of slides (e.g., PowerPoint or Google Slides) or a Jupyter Notebook as the lectures are done in class. The presentation should contain details on how the software was installed, the utility of the software, and an example from the software (e.g., some analysis or generation of a figure). The submitted notebook should provide detailed answers to the questions below so that the instalation and any examples in your presentation can be easily reproduced.\n",
    "\n",
    "Once you find a software package that you are interested in, email me and let me know which package you will be presenting on. **Note** a package can only be presented on once so email soon to be sure that you can present the one you are interested in. \n",
    "\n",
    "Instead of browsing through the ASCL, you can also try using their fun [random code from ASCL](http://ascl.net/code/random) service, and keep on clicking on the *Another Random Code* button!  You can also use the full text search button in the top right, and browse through the results that way. For example you could search for \"python\" or \"cosmology\"...\n",
    "\n",
    "A few suggestions (I have not verified how well they are suited): \n",
    "1. SunPy\n",
    "1. slimplectic  \n",
    "1. pyflation \n",
    "1. Athena \n",
    "1. PRECESSION\n",
    "1. PRESTO\n",
    "1. Gaepsi\n",
    "1. Allantools\n",
    "1. Gala\n",
    "1. Glue\n",
    "1. Tomography\n",
    "1. PyModelFit\n",
    "1. APLpy\n",
    "1. SpacePy\n",
    "1. DavitPy\n",
    "\n",
    "\n",
    "If you chose non-Python software, it will obviously be harder to explain using a notebook. That should not stop you from using a non-python code. In those cases use Markdown cells to document your work, so I can in principle reproduce your results. \n",
    "\n",
    "You are allowed to create image files and include those in the notebooks. In that case I would suggest you name your image files (or any supporting files) after your username on ursa. For example \"krmurphy-example01.png\", \"krmurphy.tab\", \"krmurphy_fig3.fits\", ...\n",
    "\n",
    "You will submit your final project as a tarball which will contain all the files (presentation, notebook, and supproting files) as <username>_fp.tar.\n",
    "\n",
    "You will need to submit both you presentation/notebook and detailed answers to the questions below so that I can reproduce your installation and results in your presentation.\n",
    "1. Your presentation should be labeled as <username>_presentation_final_project.<correct_extension>\n",
    "1. Your ipython notebook labeled as <username>_hw_final_project.ipynb. "
   ]
  },
  {
   "cell_type": "markdown",
   "metadata": {},
   "source": [
    "# HW 05 Notebook (24 marks)\n",
    "\n",
    "\n",
    "## Summary of ASCL [1010.014](http://ascl.net/1010.014) * <--- fill in your code*"
   ]
  },
  {
   "cell_type": "markdown",
   "metadata": {},
   "source": [
    "### 1. Is the documentation sufficient to select this for your project? (3 marks)\n",
    "\n",
    "..."
   ]
  },
  {
   "cell_type": "markdown",
   "metadata": {},
   "source": [
    "### 2. Installation instructions. How was the software installed? Was another compiler, tool, or python module required? (5 marks)\n",
    "\n",
    "..."
   ]
  },
  {
   "cell_type": "markdown",
   "metadata": {},
   "source": [
    "### 3. Does it come with example files/data to run the code or did you have find your own data? (4 marks)\n",
    "\n",
    "..."
   ]
  },
  {
   "cell_type": "markdown",
   "metadata": {},
   "source": [
    "### 4. Do they give a regression test (i.e. can I verify it works through examples/comparisons)? (4 marks)\n",
    "\n",
    "..."
   ]
  },
  {
   "cell_type": "markdown",
   "metadata": {},
   "source": [
    "### 5. Are there other codes that do similar analysis? If so are they open source/readily available? (3 marks)\n",
    "\n",
    "..."
   ]
  },
  {
   "cell_type": "markdown",
   "metadata": {
    "collapsed": true
   },
   "source": [
    "### 6. Once it has produced results, what can you do with them? (3 marks)\n",
    "\n",
    "..."
   ]
  },
  {
   "cell_type": "markdown",
   "metadata": {},
   "source": [
    "### 7. Did you need to contact the ASCL or code author? If so why? (2 marks)\n",
    "\n",
    "..."
   ]
  },
  {
   "cell_type": "code",
   "execution_count": null,
   "metadata": {},
   "outputs": [],
   "source": []
  }
 ],
 "metadata": {
  "anaconda-cloud": {},
  "kernelspec": {
   "display_name": "Python 3",
   "language": "python",
   "name": "python3"
  },
  "language_info": {
   "codemirror_mode": {
    "name": "ipython",
    "version": 3
   },
   "file_extension": ".py",
   "mimetype": "text/x-python",
   "name": "python",
   "nbconvert_exporter": "python",
   "pygments_lexer": "ipython3",
   "version": "3.6.4"
  }
 },
 "nbformat": 4,
 "nbformat_minor": 1
}
