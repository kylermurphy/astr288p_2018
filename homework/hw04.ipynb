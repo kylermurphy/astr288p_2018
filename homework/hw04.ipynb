{
 "cells": [
  {
   "cell_type": "markdown",
   "metadata": {},
   "source": [
    "## ASTR288P Assignment 4\n",
    "Assigned: 2018/04/03 4PM\n",
    "\n",
    "Due:      2018/06/06 9PM\n",
    "\n",
    "## Instructions\n",
    "Please place the answers to these questions in this notebook and place the notebook in\n",
    "\n",
    "~/ASTR288P/homework/`<your_username`>_hw03.ipynb\n",
    "\n",
    "**Remember, the collection script is case sensitive!**\n",
    "\n",
    "**Note, when plotting figures always label your plot and axis with a title and units.**\n",
    "\n",
    "**Note, be sure to comment each section of your code. This makes it easier for users to determine what your code is doing.** \n",
    "\n",
    "---"
   ]
  },
  {
   "cell_type": "markdown",
   "metadata": {},
   "source": [
    "## 1. Euler's Formula and Latex (5 marks)\n",
    "\n",
    "Euler's formula was introduced in Lecture 8 _Time Series Analysis_ for the Fourier Transforms. Euler's formula is given by:\n",
    "\n",
    "$$ e^{i\\theta} = \\cos{\\theta} + i\\sin{\\theta} $$\n",
    "\n",
    "Using trigonemetric identities show that:\n",
    "\n",
    "\n",
    "$$ \\cos (\\theta) = \\frac{e^{i\\theta} + e^{-i\\theta}}{2} $$ \n",
    "\n",
    "and\n",
    "$$ \\sin (\\theta) = \\frac{e^{i\\theta} - e^{-i\\theta}}{2i} $$ \n",
    "\n",
    "Show your work in a **_Markdown_** cell using **_Latex_** to show each step.\n",
    "\n",
    "Lecture4_01_intro.ipynb introduced Markdown and Latex and has links to examples for both formatting Markdown and Latex. You can also view the _raw_ Markdown cells from Lecture8_06-timeseries.ipynb which has a number of Latex formula."
   ]
  },
  {
   "cell_type": "markdown",
   "metadata": {},
   "source": [
    "---\n",
    "### Place answers to question 1 in this Markdown cell. Add additional cells as required. "
   ]
  },
  {
   "cell_type": "markdown",
   "metadata": {},
   "source": [
    "---\n",
    "\n",
    "## 2. Parseval's Theorem (15 marks)\n",
    "\n",
    "The total power of a signal is the same whether it is computed in the time domain or in the frequecny domain; energy is conserved. This is referred to as Parseval's Theorem.\n",
    "\n",
    "For the Fourier Transform (a unitary transform) this means that the sum of the square's of a time-series $x_k$ is proportional to the sum of the square of its Fourier transform $X_n$. Specifically: \n",
    "\n",
    "$$ \\sum\\limits_{k=0}^{N-1} x_k^2 \\quad = \\frac{1}{N}\\sum\\limits_{n=0}^{N-1} X_n^2 $$ \n",
    "\n",
    "1. (5 Marks) Read in and plot the data file '../data/parseval.dat'. The file contains one column, the amplitude of a simple signle. The resolution of the time series is 1 second. You can assume $t_0=0 \\,\\text{sec}$.\n",
    "1. (5 Marks) Verify Parseval's Theorem using the time series '../data/parseval.dat'\n",
    "1. (5 Marks) Estimate and plot the power spectra of the time series '../data/parseval.dat'. You may use any method described in class. What are the dominant periods/frequencies of the time series? What window did you use and why?\n"
   ]
  },
  {
   "cell_type": "code",
   "execution_count": null,
   "metadata": {},
   "outputs": [],
   "source": [
    "# Place your code to question 3 here\n",
    "#  Add additional cells as required. \n",
    "\n",
    "# Note seperating or breaking you workflow down\n",
    "#  into multiple cells may help to make answering the\n",
    "#  questions easier."
   ]
  },
  {
   "cell_type": "markdown",
   "metadata": {},
   "source": [
    "---\n",
    "## 3. Drift Resonance in the Magnetosphere (30 marks)\n",
    "\n",
    "The Earth's magnetosphere is the region of near-Earth space dominated by the Earth's magnetic field. The magnetosphere is comprised of several different cold and hot plasma (protons, electrons, and ionized atoms) regimes. The Earth's outer radiation belt is one of these regime; a torodial region between ~2-7 Earth radii ($R_E$) populated by trapped electrons with energies from 100s of keV to multiple MeV.\n",
    "\n",
    "Typically, the outer radiation belt exists in a quiescent or quiet state. However, during geomagnetic storms driven by coronal mass ejections eminating from sunspot pairs on the solar disc, the outer radiation belt can become extremely dynamic. This can lead to a rapid enhancement in the number of energetic electrons within the outer radiation belt. These electrons are referred to as _killer electrons_ and are capable of disrupting satellite operations. \n",
    "\n",
    "In this question we are going to investigate the dynamics of these electrons in response to an increase in solar wind density which leads to development of a drift-resonance, a discrete wave, in the electron spectra. \n",
    "\n",
    "The file '../data/OMNI.dat' contains the solar wind number density $\\rho_{sw}$, velocity $v_{sw}$, and  the southward component of the interplanetary magnetic field (IMF) $B_{z,\\,sw}$ as a function of time on 31 October 2012. \n",
    "\n",
    "The file '../data/VanAllen.dat' contains the flux $J$ and residual flux $j_r$ of energetic electrons as function of time and electron energy as observed on 31 October 2012 from 15:00-16:30 UT. The residual flux is defined as:\n",
    "\n",
    "$$ j_{r,i} = \\frac{J_i-J_{avg}}{J_{avg}} $$ \n",
    "\n",
    "Where $i$ is the time point, $J_i$ is the flux at a $i$, and $J_{avg}$ is a 10 minute average of $J$ centered on $J_i$.\n",
    "\n",
    "The headers in both files are denote by a _#_ as the first entry and identify what each of the columns are and the units for each column. \n",
    "\n",
    "1. (10 Marks) Read in and plot $\\rho_{sw}$, $v_{sw}$, $B_{z,\\,sw}$, $J$ and $j_r$ on a 5 panel plot between 15:00-17:00 UT on 31 October 2012. Be sure to propoerly label all y-axis' and format the x-axis with a an appropriate time format. Include a legend for the $J$ and $j_r$ plots as there is more then a single electron energy. Note the range of $J$; is a linear y-axis appropriate for this plot? What are the gaps in the line plots in the solar wind and IMF data? What are the resolutions of each of the time series (you can read this directly from the files)?\n",
    "1. (10 Marks) From the above it should be clear that a discrete wave is observed in the electron observations (both $J$ and $j_r$). Calculate the power spectra (using any of the methods from class) of the residual flux as a function of electron energy. Store the power spectra in a single array ```pspec[y,x]``` where the first dimension ```y``` corresponds to _electron energy_ and the second dimension ```x``` corresponds to _frequency_. What window did you use and why? What is the frequency and period of the oscillation? What electron energy does the power of the osciallation peak at? \n",
    "1. (10 Marks) Plot the power spectra of the residual fluxes as an image or _spectrogram_. The y-axis should have electron energy, x-axis should be frequency, and the power spectra should be shown in color. Include a color bar and label all axis. What are the units of power spectra?\n"
   ]
  },
  {
   "cell_type": "code",
   "execution_count": null,
   "metadata": {},
   "outputs": [],
   "source": [
    "# Place your code to question 3 here\n",
    "#  Add additional cells as required. \n",
    "\n",
    "# Note seperating or breaking you workflow down\n",
    "#  into multiple cells may help to make answering the\n",
    "#  questions easier."
   ]
  },
  {
   "cell_type": "markdown",
   "metadata": {},
   "source": [
    "---\n",
    "## Bonus (9 marks)\n",
    "\n",
    "The electron oscillations investigated in Question 3 are the result of a resonance between the electrons and an Ultra-low Frequency wave on the Earth's magnetic field. This resonance is referred to as a _drift resoance_ and can be identified by the power and phase of the electron oscillations as a function of energy at the dominant period of the oscillation. \n",
    "\n",
    "As a function of energy the resonance will exhbit a 180 degree phase change across the electron energy where the oscillation power peaks (the frequency of peak power).\n",
    "\n",
    "The power or amplitude of the electron oscillations can be calculated using the FFT or Periodogram. \n",
    "\n",
    "The phase $\\phi_n$ of an oscillation at specific frequency $f_n$ can be calculated from the real $\\Re$ and imaginary $\\Im$ parts of the Fourier Transform $X_n$ at that frequency and is given by:\n",
    "\n",
    "$$ \\phi_n = \\arctan{\\frac{\\Re(X_n)}{\\Im(X_n)}} $$\n",
    "\n",
    "1. (3 Marks) Write a function which calculates the residual flux described in Question 3. **Note this is not necessary for the other two parts of the bonus question**.\n",
    "1. (3 Marks) Calculate the phase of the electron oscillation from the residual flux as function of energy at the dominant frequency determined in Question 3. \n",
    "1. (3 Marks) Plot both the power (from Question 3) and phase as a function energy on a single plot. The x-axis should have energy, the _left y-axis_ should have power and the _right y-axis_ should have amplitude. Be sure to label the axis and provide a legend."
   ]
  },
  {
   "cell_type": "code",
   "execution_count": null,
   "metadata": {},
   "outputs": [],
   "source": [
    "# Place your code to question 3 here\n",
    "#  Add additional cells as required. \n",
    "\n",
    "# Note seperating or breaking you workflow down\n",
    "#  into multiple cells may help to make answering the\n",
    "#  questions easier."
   ]
  }
 ],
 "metadata": {
  "kernelspec": {
   "display_name": "Python 3",
   "language": "python",
   "name": "python3"
  },
  "language_info": {
   "codemirror_mode": {
    "name": "ipython",
    "version": 3
   },
   "file_extension": ".py",
   "mimetype": "text/x-python",
   "name": "python",
   "nbconvert_exporter": "python",
   "pygments_lexer": "ipython3",
   "version": "3.6.4"
  }
 },
 "nbformat": 4,
 "nbformat_minor": 2
}
