{
 "cells": [
  {
   "cell_type": "markdown",
   "metadata": {},
   "source": [
    "## ASTR288P Assignment 3\n",
    "Assigned: 2018/03/6 4PM\n",
    "\n",
    "Due:      2018/04/02 2PM\n",
    "\n",
    "## Instructions\n",
    "Please place the answers to these questions in this notebook and place the notebook in\n",
    "\n",
    "~/ASTR288P/homework/`<your_username`>_hw03.ipynb\n",
    "\n",
    "**Remember, the collection script is case sensitive!**\n",
    "\n",
    "**Note, when plotting figures always label your plot and axis with a title and units.**\n",
    "\n",
    "**Note, be sure to comment each section of your code. This makes it easier for users to determine what your code is doing.** "
   ]
  },
  {
   "cell_type": "markdown",
   "metadata": {},
   "source": [
    "## Coding Questions"
   ]
  },
  {
   "cell_type": "markdown",
   "metadata": {},
   "source": [
    "## 1- Lost in the Delta Quadrant (17 marks)\n",
    "\n",
    "The USS Voyager was stranded in the Delta Quadrant, some 70,000 light years away after being taken there by an entity known as the Caretaker. \n",
    "\n",
    "Voyager was equipped with a state-of-the-art warp drive capable of a maximum warp factor of 9.975 and a cruising warp of 6.5. \n",
    "\n",
    "You can convert Warp to speed using the following equation: \n",
    "$$ \\frac{v}{c} = W^{\\frac{10}{3}} $$\n",
    "where $c$ is the speed of light. \n",
    "To get a value for $c$, use the scipy.constants module. The scipy module was installed in class and information or help can be found using ```hel()```, ```?```, ```??``` or the web.\n",
    "\n",
    "Define two functions: **one**, that takes a warp factor as an argument and returns a speed in $m/s$, and a **second** that takes light years as an argument an returns meters (so that your units match) and then calculate the following: \n",
    "\n",
    "1. (5 marks): Your function musts be able to detect if an incorrect values are given. Only Warp Factors $0 <= W < 10$, and postive light years are valid. If an incorrect Warp Factor or light year is passed to your program it must **raise** a **ValueError**. There is some information on this in the Lecture 4 notes, but you should also do some reading on-line about how to do this correctly. \n",
    "1. (3 marks) Make a plot of Warp Factor versus velocity for Warp 1 - Warp 9\n",
    "1. (3 marks) How long would it take for Voyager to reach Earth assuming a speed of Warp 6.5? Give your answer in years. What about at maximum warp?\n",
    "1. (3 marks) Make a plot of Warp Factor vs time for Voyager to get home.\n",
    "1. (3 marks): The original Enterprise (NX-01) could go to \"Neptune and back in six minutes\". Assuming Earth as the starting point, how fast was the Enterprise going in m/s and in Warp units? \n"
   ]
  },
  {
   "cell_type": "code",
   "execution_count": null,
   "metadata": {
    "collapsed": true
   },
   "outputs": [],
   "source": [
    "##Place your code in this cell. Add more cells if you require them."
   ]
  },
  {
   "cell_type": "markdown",
   "metadata": {},
   "source": [
    "## 2- Stellar Luminosity and Fluxes **(18 marks)** \n",
    "\n",
    "You may have learned in your astronomy classes that a star's luminosity $L$ is related to its temperature $T$ and radius $R$ by:\n",
    "\n",
    "$$ L = 4 \\pi R^2 \\sigma T^4 $$\n",
    "\n",
    "and the flux of an object scales as the inverse-square of the distance between the object and the observer: \n",
    "\n",
    "$$ F = \\frac{L}{4 \\pi r^2} $$\n",
    "\n",
    "1. (5 Marks) Write a function which will calculate and return the luminosity of a star as a function of its radius and temperature. \n",
    "\n",
    "1. (5 Marks) Next, write a function that allows you to calculate the flux of the star as a function of the distance away from the observer given its luminosity. \n",
    "1. (3 Marks) Look up the temperature and radius of the stars listed below. Use this to calculate their flux at 100 light years from the observer and plot this on a scatter plot to demonstrate the relative luminosities of these stars. Include a legend for the scatter plot.\n",
    "    - Baranrd's star\n",
    "    - Sirius\n",
    "    - Betelgeuse\n",
    "    - Polaris\n",
    "    - Vega\n",
    "1. (5 Marks) For the same stars, plot flux vs distance for disatances from 1 light year to 100,000 light years (line plots as opposed to scatter plots). Start at 1 and step logrithmically by 0.25 to 100,000 light years. Make two plots side-by-side which share a single y-axis, the first plot should use a linear scale along the x-axis and the second plot should use a log scale along the x-axis. **Hint**: Look up the different options for pyplot.subplots. \n",
    "\n",
    "Plotting functions you should look at for this problem:\n",
    "plt.subpl\n",
    "plt.show()\n"
   ]
  },
  {
   "cell_type": "code",
   "execution_count": null,
   "metadata": {
    "collapsed": true
   },
   "outputs": [],
   "source": [
    "##Place your code in this cell. Add more cells if you require them."
   ]
  },
  {
   "cell_type": "markdown",
   "metadata": {},
   "source": [
    "## 2- Slicing with NumPy (10 marks)\n",
    "\n",
    "In this question you will practice slicing numpy arrays.\n",
    "With the exception of creating and reshaping your initial arrays, you should not have to do any other assignments to complete the question, only slicing."
   ]
  },
  {
   "cell_type": "code",
   "execution_count": null,
   "metadata": {},
   "outputs": [],
   "source": [
    "import numpy as np\n",
    "a = np.linspace(-12,12, 16)\n",
    "print(a)\n",
    "#2.A)\n",
    "#Slice only the odd-indexed values in the array and print them to screen.\n",
    "#For example, if our array is [2, 12, 20, -99, -57], then all odd-indexed values are 12 and -99.\n",
    "### PLACE YOUR CODE BELOW THIS COMMENT\n",
    "\n",
    "\n",
    "a = np.linspace(-12,12, 21)\n",
    "#2.B)\n",
    "#Next, provide every 5th value starting with the third value in the array.\n",
    "#For example, if our array is \n",
    "#[0, 1, 2, 3, 4, 5, 6, 7, 8, 9, 10, 11, 12, 13, 14, 15, 16, 17, 18, 19, 20, 21, 22, 23, 24, 25, 26, 27, 28, 29]\n",
    "# the result is [2, 7, 12, 17, 22, 27]\n",
    "### PLACE YOUR CODE BELOW THIS COMMENT\n",
    "\n",
    "\n",
    "#2.C)\n",
    "a = np.linspace(-12,12, 21)\n",
    "#Slice from the 5th element to the 3rd-last element.\n",
    "### PLACE YOUR CODE BELOW THIS COMMENT\n",
    "\n",
    "\n",
    "\n",
    "\n",
    "#2.D)\n",
    "a = np.array(range(16))\n",
    "a = a.reshape((4,4))\n",
    "print(a)\n",
    "#Slice out the first row and first column of the array so that the resulting 'view' of the array is\n",
    "#[[5 6 7]\n",
    "# [9 10 11]\n",
    "# [13, 14 15]]\n",
    "### PLACE YOUR CODE BELOW THIS COMMENT\n",
    "\n",
    "#2.E)\n",
    "#Provide code so that the resulting 'view' of the array from 2.D \n",
    "# is only the four 'middle' elements in the square. \n",
    "#[[5 6]\n",
    "#[9 10]]\n",
    "### PLACE YOUR CODE BELOW THIS COMMENT\n",
    "\n",
    "#2.F)\n",
    "#Provide code that produces a 3x4x4 matrix (x,y,z coordinates) \n",
    "#use the array(), range() and reshape() commands.\n",
    "### PLACE YOUR CODE BELOW THIS COMMENT\n",
    "\n",
    "\n",
    "\n"
   ]
  }
 ],
 "metadata": {
  "kernelspec": {
   "display_name": "Python 3",
   "language": "python",
   "name": "python3"
  },
  "language_info": {
   "codemirror_mode": {
    "name": "ipython",
    "version": 3
   },
   "file_extension": ".py",
   "mimetype": "text/x-python",
   "name": "python",
   "nbconvert_exporter": "python",
   "pygments_lexer": "ipython3",
   "version": "3.6.4"
  }
 },
 "nbformat": 4,
 "nbformat_minor": 2
}
