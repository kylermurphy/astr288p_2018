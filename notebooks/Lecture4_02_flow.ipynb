{
 "cells": [
  {
   "cell_type": "markdown",
   "metadata": {},
   "source": [
    "# Python Control Flow\n",
    "\n",
    "1. if/then/else\n",
    "1. for-loop/else    \n",
    "1. while-loop/else\n",
    "1. functions\n",
    "\n",
    "Some laguages use parentheses (IDL) or braces (C and C++) to control the flow of code or seperate certian statements from other statements. These seperators are required for the code to compile without errors. \n",
    "\n",
    "Python uses indentation. This is typically easier to read and has the advantage that code tends to be uniformly and consistently indented. This makes it easier understand and read other people's code; however, commenting is still important!\n",
    "\n",
    "---"
   ]
  },
  {
   "cell_type": "markdown",
   "metadata": {},
   "source": [
    "## 1. if/then/else\n",
    "\n",
    "**if/then/else** statements evaluate an expression or series of expressions and decide whether the expression is **TRUE** or **FLASE**. This outcome dictates which condition (or block) of the statement is excuted.\n",
    "\n",
    "- If the intial expression is true excute the conditional statement which imidiately follows.\n",
    "- If the intial expression is false evalute the next expression which may be another **if** statement or an **else**.\n",
    "\n",
    "Note the indentation controls the flow and defines the condition code statement."
   ]
  },
  {
   "cell_type": "code",
   "execution_count": 10,
   "metadata": {
    "collapsed": false
   },
   "outputs": [
    {
     "name": "stdout",
     "output_type": "stream",
     "text": [
      "a is within the bounds.\n",
      "this is an extra line\n"
     ]
    }
   ],
   "source": [
    "a = 1.e-323\n",
    "\n",
    "\n",
    "if a == 0.0:\n",
    "    print('zero')\n",
    "elif a > 10.0 or a < -10:\n",
    "    print(\"a is too big\")\n",
    "    if a < 0:\n",
    "        print(\"negative\")\n",
    "    \n",
    "else:\n",
    "    print(\"a is within the bounds.\")\n",
    "    \n",
    "print(\"this is an extra line\")\n",
    "\n",
    "if a < 1.e-1500:\n",
    "    a=0\n"
   ]
  },
  {
   "cell_type": "markdown",
   "metadata": {},
   "source": [
    "Things to try :\n",
    "* seting a=0.001  0.00001   etc.   or try   1e-10  1e-50  1e-100   (when is it really zero in python?)\n",
    "* a = 100\n",
    "* a = -5"
   ]
  },
  {
   "cell_type": "markdown",
   "metadata": {},
   "source": [
    "---\n",
    "\n",
    "## 2. Loops\n",
    "\n",
    "Loops are used to sequentially execute a statement or group of statements allowing tasks which need to ran multiple times to be confined within the loop.\n",
    "\n",
    "### for-loops\n",
    "\n",
    "The for-loop in python runs over an iterator and is used to exectute a block of code a fixed number of times. Lists are the most common iterator to use in the python for-loop.\n",
    "\n",
    "In python you can also use the **else** clause (often overlooked) which excutes when the loop as finished."
   ]
  },
  {
   "cell_type": "code",
   "execution_count": null,
   "metadata": {
    "collapsed": false
   },
   "outputs": [],
   "source": [
    "for i in [1,3,-1,10,100,0]:\n",
    "    print(i)\n",
    "    if i <= 10:\n",
    "        print(\"We're good!\")\n",
    "else:    \n",
    "    print(\"Completed all iterations of the loop!\")"
   ]
  },
  {
   "cell_type": "markdown",
   "metadata": {},
   "source": [
    "### while-loop\n",
    "\n",
    "The python while-loop requires a conditional statement and excutes as long as the condition is **TRUE**. Similar to the for-loop, it also has an **else** clause."
   ]
  },
  {
   "cell_type": "code",
   "execution_count": null,
   "metadata": {
    "collapsed": false
   },
   "outputs": [],
   "source": [
    "a = 0\n",
    "total = 0\n",
    "while a<10:\n",
    "    print(a,total)\n",
    "\n",
    "    a += 1\n",
    "    total += a\n",
    "    if total>100:\n",
    "        break\n",
    "else:\n",
    "    print(\"final sum\",total)\n",
    "    "
   ]
  },
  {
   "cell_type": "markdown",
   "metadata": {
    "collapsed": true
   },
   "source": [
    "Things to try:\n",
    "* sum>10\n",
    "\n",
    "### Loop Control Statements\n",
    "\n",
    "These are statement which either exit a loop or move onto the next iteration of loop \n",
    "- ```break```, terminate the loop regardless of the condition\n",
    "- ```continue```, move to the next iteration and retest the condition"
   ]
  },
  {
   "cell_type": "code",
   "execution_count": null,
   "metadata": {
    "collapsed": false
   },
   "outputs": [],
   "source": [
    "for i in [1,3,-1,10,100,0]:\n",
    "    print(i)\n",
    "    \n",
    "    if i == 3: \n",
    "        continue\n",
    "        \n",
    "    if i <= 10:\n",
    "        print(\"We're good!\")\n",
    "        \n",
    "    if i>=90:\n",
    "        print(\"Break!!\")\n",
    "        break\n",
    "else:\n",
    "    print(\"only if there is no break\")"
   ]
  },
  {
   "cell_type": "markdown",
   "metadata": {
    "collapsed": true
   },
   "source": [
    "## 3. Functions\n",
    "\n",
    "Functions are the classic analog of functions in languages like Fortran and C. However, Python is object oriented and so it has a ```class``` as well, much like C++ and Java.\n"
   ]
  },
  {
   "cell_type": "code",
   "execution_count": null,
   "metadata": {
    "collapsed": false,
    "scrolled": true
   },
   "outputs": [],
   "source": [
    "import math\n",
    "\n",
    "def mysqrt(x):\n",
    "    # this is my sqrt function (comment vs. docstring)\n",
    "    '''\n",
    "    This is the docstring for mysqrt!\n",
    "    \n",
    "    Here is more text!\n",
    "    '''\n",
    "    \n",
    "    if x < 0:\n",
    "        return -math.sqrt(-x)\n",
    "    else:\n",
    "        return math.sqrt(x)\n",
    "\n",
    "    \n",
    "\n",
    "for x2 in [-4.0, 0.0, 4.0]:\n",
    "    #print(x2)\n",
    "    print(mysqrt(x2))\n",
    "    #print(x2)\n",
    "else:\n",
    "    print('end of loop')\n",
    "    \n",
    "print(x2)\n",
    "\n",
    "#this function call also works\n",
    "print(mysqrt(x=x2))"
   ]
  },
  {
   "cell_type": "code",
   "execution_count": null,
   "metadata": {
    "collapsed": false,
    "scrolled": true
   },
   "outputs": [],
   "source": [
    "dir(mysqrt)"
   ]
  },
  {
   "cell_type": "code",
   "execution_count": null,
   "metadata": {
    "collapsed": false
   },
   "outputs": [],
   "source": [
    "print(mysqrt.__doc__)\n",
    "help(mysqrt)"
   ]
  },
  {
   "cell_type": "markdown",
   "metadata": {},
   "source": [
    "### Function Arguments\n",
    "\n",
    "- Required Arguments: Arguements passed in the correct order\n",
    "\n",
    "```python\n",
    "a = mysqrt(4)\n",
    "```\n",
    "\n",
    "- Keyword Arguements: Identify the arguements by the parameter name\n",
    "\n",
    "```python\n",
    "a = mysqrt(x=4)\n",
    "```\n",
    "\n",
    "- Default Arguments: If nothing is passed then an argument assuems a predefined (*default*) value.\n",
    "```python\n",
    "a = mysqrt(4,True)\n",
    "a = mysqrt(classic=True, x=4,verbose=True)\n",
    "```\n",
    "\n"
   ]
  },
  {
   "cell_type": "code",
   "execution_count": null,
   "metadata": {
    "collapsed": false,
    "scrolled": true
   },
   "outputs": [],
   "source": [
    "#Example 1: Default Arguments\n",
    "\n",
    "def mysqrt(x,verbose=False,classic=False):\n",
    "    import math\n",
    "    if classic:\n",
    "        if verbose: print(\"classic\",x)\n",
    "        return math.sqrt(x)\n",
    "    elif x < 0:\n",
    "        if verbose: print(\"fixing\",x)\n",
    "        return -math.sqrt(-x)\n",
    "    else:\n",
    "        if verbose: print(\"correct\",x)\n",
    "        return math.sqrt(x)\n",
    "\n",
    "print(mysqrt(-4.0))\n",
    "print(mysqrt(-2.0,True))\n",
    "print(mysqrt(-2.0,classic=True))"
   ]
  },
  {
   "cell_type": "markdown",
   "metadata": {},
   "source": [
    "### Exception Handling\n",
    "\n",
    "Not the error above. Errors or Exceptions disrupt the flow of code in a program and occur when Python cannot handle a particular peice or line of code. This could incluide passing the wrong or incorrect number of arguments to a function. In the case above, the ```math.sqrt( )``` function cannot handle negative numbers.\n",
    "\n",
    "These exceptions can be handled with try/except/else blocks of code. If an error occurs the execution in the try block is transferred to the except block. In this way code can continue even if there's an error. This is helpful when you have a particularly 'buggy' peice of code or are trying to isolate an error.\n"
   ]
  },
  {
   "cell_type": "code",
   "execution_count": null,
   "metadata": {
    "collapsed": false
   },
   "outputs": [],
   "source": [
    "#Example 1: try,except\n",
    "\n",
    "try:\n",
    "    print(mysqrt(-2.0,classic=True))\n",
    "except:\n",
    "    print(\"some error, deal with it\")\n",
    "    "
   ]
  },
  {
   "cell_type": "markdown",
   "metadata": {},
   "source": [
    "You can also define the type of Exception following the **except** which will execute only for that particular exception.\n",
    "\n",
    "A list and description of Exceptions can be found [here](https://www.tutorialspoint.com/python/python_exceptions.htm)."
   ]
  },
  {
   "cell_type": "code",
   "execution_count": null,
   "metadata": {
    "collapsed": false
   },
   "outputs": [],
   "source": [
    "#Example 2: defining the exception\n",
    "\n",
    "try:\n",
    "    print(some_new_variable)\n",
    "    print(mysqrt(-2.0,classic=True))\n",
    "except ValueError:\n",
    "    print(\"Some error\")\n",
    "except NameError:\n",
    "    print(\"NameErrors occur when you try to use a variable that hasn't been defined yet.\")"
   ]
  },
  {
   "cell_type": "markdown",
   "metadata": {},
   "source": [
    "### Variable Scope\n",
    "\n",
    "As in other languages, objects inside a function are not visible outside and vice versa, but perhaps with a tiny twist.\n",
    "\n",
    "- Global Variables: accessed throughout a program\n",
    "- Local Variables: those defined in a function and can only be accessed within the function"
   ]
  },
  {
   "cell_type": "code",
   "execution_count": null,
   "metadata": {
    "collapsed": false
   },
   "outputs": [],
   "source": [
    "#Example 1: Global Variables\n",
    "\n",
    "a1 = 1.0\n",
    "def testa(x):\n",
    "    global a1\n",
    "    print(a1+x)\n",
    "    a1 = a1 + x\n",
    "\n",
    "testa(2.0)\n",
    "testa(2.0)\n"
   ]
  },
  {
   "cell_type": "code",
   "execution_count": null,
   "metadata": {
    "collapsed": false
   },
   "outputs": [],
   "source": [
    "#Example 2: Local Variables\n",
    "\n",
    "a1 = 1.0\n",
    "def testa(x):\n",
    "    global a1\n",
    "    print(a1+x)\n",
    "    a1 = a1 + x\n",
    "    y = a1 - x\n",
    "testa(2.0)\n",
    "testa(2.0)\n",
    "print(y)"
   ]
  },
  {
   "cell_type": "code",
   "execution_count": null,
   "metadata": {
    "collapsed": false,
    "scrolled": true
   },
   "outputs": [],
   "source": [
    "#Example 3\n",
    "\n",
    "import math\n",
    "print(math.pi)\n",
    "\n",
    "def mypi(x):\n",
    "    # this will overwrite \\pi !!!\n",
    "    math.pi = x\n",
    "    return {x,x}\n",
    "a=mypi(3)\n",
    "print(math.pi)\n",
    "print(x2)\n",
    "print('a',a)\n",
    "#print(\"a=%g\"  % a)\n",
    "print(type(a))\n",
    "print(type(mypi))"
   ]
  },
  {
   "cell_type": "code",
   "execution_count": null,
   "metadata": {
    "collapsed": false
   },
   "outputs": [],
   "source": [
    "print(a)\n"
   ]
  },
  {
   "cell_type": "code",
   "execution_count": null,
   "metadata": {
    "collapsed": false
   },
   "outputs": [],
   "source": [
    "print(a[0])"
   ]
  },
  {
   "cell_type": "code",
   "execution_count": null,
   "metadata": {
    "collapsed": false
   },
   "outputs": [],
   "source": [
    "print(a)"
   ]
  },
  {
   "cell_type": "code",
   "execution_count": null,
   "metadata": {
    "collapsed": false
   },
   "outputs": [],
   "source": [
    "a = {1,2,3,4,5,1,2,3,4,5,6}\n",
    "print(a)"
   ]
  },
  {
   "cell_type": "code",
   "execution_count": null,
   "metadata": {
    "collapsed": true
   },
   "outputs": [],
   "source": []
  }
 ],
 "metadata": {
  "anaconda-cloud": {},
  "kernelspec": {
   "display_name": "Python 2",
   "language": "python",
   "name": "python2"
  },
  "language_info": {
   "codemirror_mode": {
    "name": "ipython",
    "version": 2
   },
   "file_extension": ".py",
   "mimetype": "text/x-python",
   "name": "python",
   "nbconvert_exporter": "python",
   "pygments_lexer": "ipython2",
   "version": "2.7.13"
  }
 },
 "nbformat": 4,
 "nbformat_minor": 1
}
