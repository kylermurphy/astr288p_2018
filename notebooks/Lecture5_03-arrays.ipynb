{
 "cells": [
  {
   "cell_type": "markdown",
   "metadata": {},
   "source": [
    "# Lecture 5: More Pythony Goodness\n",
    "## Arrays and Numpy\n",
    "\n",
    "### 1. Python Lists\n",
    "What happens when we add two lists together? "
   ]
  },
  {
   "cell_type": "code",
   "execution_count": null,
   "metadata": {},
   "outputs": [],
   "source": [
    "a = [1,2,3]\n",
    "b = [4,5,6]\n",
    "c = a+b\n",
    "print(c)"
   ]
  },
  {
   "cell_type": "markdown",
   "metadata": {},
   "source": [
    "You can see, adding two lists just results in a longer list, catenation of the two. Is this what you **expected** would happen? \n",
    "\n",
    "If you were adding vectors what would you **expect** to happen?\n",
    "\n",
    "What about appending an array?\n"
   ]
  },
  {
   "cell_type": "code",
   "execution_count": null,
   "metadata": {},
   "outputs": [],
   "source": [
    "print(a)\n",
    "print(b)\n",
    "a.append(b)\n",
    "print(a)"
   ]
  },
  {
   "cell_type": "code",
   "execution_count": null,
   "metadata": {
    "scrolled": true
   },
   "outputs": [],
   "source": [
    "len(a)\n",
    "print(a[0])\n",
    "print(a[3])\n",
    "print(a[3][1])"
   ]
  },
  {
   "cell_type": "markdown",
   "metadata": {},
   "source": [
    "Notice that the 3rd element in ```a``` is the list ```b``` itself. Recall from the last lecture that elements within a list can be of different types. This can become confusing/error prone when trying to any type of math.  \n",
    "\n",
    "**NOTE**: 3rd is a python 3rd, in human counting you would probably say 4th."
   ]
  },
  {
   "cell_type": "markdown",
   "metadata": {},
   "source": [
    "### 2. Numpy\n",
    "\n",
    "Numpy addresses some of the limitations in Python regarding data types, effeciency, representation of matrices, matrix manipulation and linear algerbra.\n",
    "\n",
    "- The official [Numpy documentation](http://numpy.org/) \n",
    "- List of the [data types](http://docs.scipy.org/doc/numpy-1.10.1/user/basics.types.html) in Numpy\n",
    "\n",
    "### Creating arrays with Numpy"
   ]
  },
  {
   "cell_type": "code",
   "execution_count": null,
   "metadata": {},
   "outputs": [],
   "source": [
    "import numpy as np                  # access all of numpy with 'np' \n",
    "\n",
    "#'from numpy import *' works too \n",
    "# however, this is bad coding style \n",
    "# as it pollutes your namespace and \n",
    "# you can 'overwrite' certain objects,\n",
    "# variables, or methods\n",
    "\n",
    "# a single element array\n",
    "arr1 = np.array(4)\n",
    "print(arr1)\n",
    "print(arr1.dtype)\n",
    "print(arr1.shape)\n",
    "print(\"================\")\n",
    "\n",
    "# a 2x2 array .... confusing to see what's a row and what's a column\n",
    "arr1 = np.array([[7,6],[5,4]])\n",
    "print(arr1)\n",
    "print(arr1.dtype)\n",
    "print(arr1.shape)\n",
    "print(\"================\")\n",
    "\n",
    "#a 3x2 array  ... that's 3 rows, and 2 columns\n",
    "arr1 = np.array([[1.,2],[3,4],[5,6]])\n",
    "print(arr1)\n",
    "print(arr1.dtype)\n",
    "print(arr1.shape)\n",
    "\n"
   ]
  },
  {
   "cell_type": "code",
   "execution_count": null,
   "metadata": {},
   "outputs": [],
   "source": [
    "# an array of zeros\n",
    "# dtype specifies the type\n",
    "# can use: \n",
    "# 'np.int64' -> 64 bit integer\n",
    "# 'np.uint64' -> unsigned 64 bit integer, can't take on negative values \n",
    "# 'np.complex64' -> 64 bit complex (2 32 bit floats, one real and one imaginary)\n",
    "          \n",
    "np.zeros([3,3], dtype=np.float64)"
   ]
  },
  {
   "cell_type": "code",
   "execution_count": null,
   "metadata": {},
   "outputs": [],
   "source": [
    "# an array of eleven ones\n",
    "np.ones(11)"
   ]
  },
  {
   "cell_type": "code",
<<<<<<< HEAD
   "execution_count": 7,
   "metadata": {
    "collapsed": false
   },
   "outputs": [
    {
     "data": {
      "text/plain": [
       "array([  3.63521590e+228,   1.25510368e+223,   1.33596146e+136,\n",
       "         5.29372284e+180,   3.03181047e+180,   2.95842784e+137,\n",
       "         2.57409075e+151,   9.09917597e+276,   2.44001263e-152,\n",
       "         9.59536594e+247,   7.10017533e-154,   1.37801120e-094,\n",
       "         8.78421503e+247,   6.21040960e+175,   3.42774111e+214,\n",
       "         2.31261029e-152,   4.26780941e+257,   2.28690939e+243,\n",
       "         2.31283062e+161,   6.66336939e-260,   1.34452794e+161,\n",
       "         2.37272582e+267,   2.48006187e+180,   1.43397140e+166,\n",
       "         6.86840815e-140,   1.23755530e+214,   4.53579888e+217,\n",
       "         2.68801551e-260,   1.69375668e+190,   3.81187276e+180,\n",
       "         4.83245960e+276,   4.94065646e-323,   5.37533304e-316])"
      ]
     },
     "execution_count": 7,
     "metadata": {},
     "output_type": "execute_result"
    }
   ],
=======
   "execution_count": null,
   "metadata": {},
   "outputs": [],
>>>>>>> b90f161cc445c8cee9cab3c54f2b0c03479cf288
   "source": [
    "# an empty array\n",
    "# may be faster to generate then \n",
    "#  an array of zeros or ones but the\n",
    "#  entries are random\n",
    "# test different sizes\n",
    "np.empty(33)"
   ]
  },
  {
   "cell_type": "code",
   "execution_count": null,
   "metadata": {},
   "outputs": [],
   "source": [
    "# an evenly and linearly spaced array\n",
    "print('linspace',np.linspace(0,100,11)) # start, stop, number of samples/entries\n",
    "\n",
    "# note the difference between range\n",
    "print('range   ',range(0,100,10)) # start, stop, step\n",
    "\n",
    "# np.arange() is the numpy equivalent to pythons range()\n",
    "print('arange  ',np.arange(0,100,10))\n",
    "\n",
    "# logrithmically spaced array\n",
    "print('logspace',np.logspace(3,6,4))"
   ]
  },
  {
   "cell_type": "code",
   "execution_count": null,
   "metadata": {},
   "outputs": [],
   "source": [
    "# reshaping arrays\n",
    "c = np.arange(10)\n",
    "\n",
    "# reshape into a 5x2 array:    5r, 2c\n",
    "c2=np.array(c.reshape(5,2))\n",
    "print(c)\n",
    "print(c2)"
   ]
  },
  {
   "cell_type": "code",
   "execution_count": null,
<<<<<<< HEAD
   "metadata": {
    "collapsed": false
   },
=======
   "metadata": {},
>>>>>>> b90f161cc445c8cee9cab3c54f2b0c03479cf288
   "outputs": [],
   "source": [
    "# reshape into a 4x3 array\n",
    "c3=np.array(c.reshape(4,3)) # python will complain since the dimensions on not compatiable"
   ]
  },
  {
   "cell_type": "markdown",
   "metadata": {},
   "source": [
    "---\n",
    "\n",
    "### Copying arrays with Numpy\n",
    "\n",
    "Similar to lists (previous notebook) you must be **aware of referencing and copying**"
   ]
  },
  {
   "cell_type": "code",
<<<<<<< HEAD
   "execution_count": 10,
   "metadata": {
    "collapsed": false
   },
   "outputs": [
    {
     "name": "stdout",
     "output_type": "stream",
     "text": [
      "[   0.   10.   20.    0.   40.   50.   60.   70.   80.   90.  100.]\n",
      "[   0.   10.   20.    0.   40.   50.   60.   70.   80.   90.  100.]\n"
     ]
    }
   ],
=======
   "execution_count": null,
   "metadata": {},
   "outputs": [],
>>>>>>> b90f161cc445c8cee9cab3c54f2b0c03479cf288
   "source": [
    "a = np.linspace(0,100,11)\n",
    "b = a # reference assignment only\n",
    "\n",
    "b[3] = 0\n",
    "\n",
    "print(a)\n",
    "print(b)\n"
   ]
  },
  {
   "cell_type": "code",
<<<<<<< HEAD
   "execution_count": 11,
   "metadata": {
    "collapsed": false
   },
   "outputs": [
    {
     "name": "stdout",
     "output_type": "stream",
     "text": [
      "[   0.   10.   20.   30.   40.   50.   60.   70.   80.   90.  100.]\n",
      "[   0.   10.   20.    0.   40.   50.   60.   70.   80.   90.  100.]\n",
      "[0 1 2 3 4 5 6 7 8 0]\n"
     ]
    }
   ],
=======
   "execution_count": null,
   "metadata": {},
   "outputs": [],
>>>>>>> b90f161cc445c8cee9cab3c54f2b0c03479cf288
   "source": [
    "# Use np.copy to copy an array\n",
    "a = np.linspace(0,100,11)\n",
    "b = np.copy(a)\n",
    "\n",
    "# Note negativing indexing works like with lists\n",
    "c[-1] = 0\n",
    "b[3]  = 0\n",
    "\n",
    "print(a)\n",
    "print(b)\n",
    "print(c)"
   ]
  },
  {
   "cell_type": "markdown",
   "metadata": {},
   "source": [
    "The same is true when reshaping an array. \n",
    "\n",
    "We saw an example of reshape just before. Is that a copy or a reference assigment.\n",
    "\n",
    "---"
   ]
  },
  {
   "cell_type": "markdown",
   "metadata": {},
   "source": [
    "### Broadcasting, Arithmetic and Numpy Arrays\n",
    "\n",
    "What happens when we add two Numpy arrays together?  At the top of this notebook we had:\n"
   ]
  },
  {
   "cell_type": "code",
<<<<<<< HEAD
   "execution_count": 12,
   "metadata": {
    "collapsed": false
   },
   "outputs": [
    {
     "name": "stdout",
     "output_type": "stream",
     "text": [
      "[5 7 9]\n",
      "[12 13 14]\n",
      "[3 6 9]\n"
     ]
    }
   ],
=======
   "execution_count": null,
   "metadata": {},
   "outputs": [],
   "source": [
    "a = [1,2,3]\n",
    "b = [4,5,6]\n",
    "c = a+b\n",
    "print(c)"
   ]
  },
  {
   "cell_type": "code",
   "execution_count": null,
   "metadata": {},
   "outputs": [],
>>>>>>> b90f161cc445c8cee9cab3c54f2b0c03479cf288
   "source": [
    "a = np.array([1,2,3])\n",
    "b = np.array([4,5,6])\n",
    "c = a+b\n",
    "\n",
    "print(c)\n",
    "\n",
    "print(a+11)\n",
    "print(a*3)\n",
    "\n"
   ]
  },
  {
   "cell_type": "code",
<<<<<<< HEAD
   "execution_count": 13,
   "metadata": {
    "collapsed": false
   },
   "outputs": [
    {
     "name": "stdout",
     "output_type": "stream",
     "text": [
      "[ 0  2  4  6  8 10 12 14 16 18]\n",
      "[   2.    6.   16.   32.   54.   82.  116.  156.  202.  254.]\n"
     ]
    }
   ],
=======
   "execution_count": null,
   "metadata": {},
   "outputs": [],
>>>>>>> b90f161cc445c8cee9cab3c54f2b0c03479cf288
   "source": [
    "# a bit more complex\n",
    "a=np.arange(10)\n",
    "b=np.arange(10)\n",
    "c = a + b\n",
    "d = 3*a*a + b + 2.0\n",
    "print(c)\n",
    "print(d)"
   ]
  },
  {
   "cell_type": "code",
<<<<<<< HEAD
   "execution_count": 14,
=======
   "execution_count": null,
>>>>>>> b90f161cc445c8cee9cab3c54f2b0c03479cf288
   "metadata": {
    "scrolled": true
   },
<<<<<<< HEAD
   "outputs": [
    {
     "name": "stdout",
     "output_type": "stream",
     "text": [
      "[0 1 2 3]\n",
      "[10 11 12 13 14]\n"
     ]
    },
    {
     "ename": "ValueError",
     "evalue": "operands could not be broadcast together with shapes (4,) (5,) ",
     "output_type": "error",
     "traceback": [
      "\u001b[0;31m---------------------------------------------------------------------------\u001b[0m",
      "\u001b[0;31mValueError\u001b[0m                                Traceback (most recent call last)",
      "\u001b[0;32m<ipython-input-14-d91a2e1d49d6>\u001b[0m in \u001b[0;36m<module>\u001b[0;34m()\u001b[0m\n\u001b[1;32m      6\u001b[0m \u001b[1;32mprint\u001b[0m\u001b[1;33m(\u001b[0m\u001b[0marr2\u001b[0m\u001b[1;33m)\u001b[0m\u001b[1;33m\u001b[0m\u001b[0m\n\u001b[1;32m      7\u001b[0m \u001b[1;33m\u001b[0m\u001b[0m\n\u001b[0;32m----> 8\u001b[0;31m \u001b[1;32mprint\u001b[0m\u001b[1;33m(\u001b[0m\u001b[0marr1\u001b[0m\u001b[1;33m+\u001b[0m\u001b[0marr2\u001b[0m\u001b[1;33m)\u001b[0m\u001b[1;33m\u001b[0m\u001b[0m\n\u001b[0m",
      "\u001b[0;31mValueError\u001b[0m: operands could not be broadcast together with shapes (4,) (5,) "
     ]
    }
   ],
=======
   "outputs": [],
>>>>>>> b90f161cc445c8cee9cab3c54f2b0c03479cf288
   "source": [
    "# Array must have similar dimensions to broadcast\n",
    "arr1 = np.arange(4)\n",
    "arr2 = np.arange(10, 15)\n",
    "\n",
    "print(arr1)\n",
    "print(arr2)\n",
    "\n",
    "print(arr1+arr2)"
   ]
  },
  {
   "cell_type": "markdown",
   "metadata": {},
   "source": [
    "\n",
    "**Broadcasting** is a powerful way to effeciently manipulate arrays. When numpy broadcasts new arrays aren't created. In the example above, ```a+11```, the addition was carried out as if ```11``` was a 1-d array the same size as ```a```, however no new array was created. This can save memory and can have implications on the performance of code especially when arrays are large.\n",
    "\n",
    "**Note** that when broadcasting arrays must have similar dimensions or one array needs to have a dimension of 1 or none. \n",
    "\n",
    "---"
   ]
  },
  {
   "cell_type": "markdown",
   "metadata": {},
   "source": [
    "## 3. Efficiency in Numpy\n",
    "\n",
    "Numpy not only provides a set of datatype that *act* how you might expect vectors and matrices to act but it also also extremely effecient compare to Pythons inherent data types. \n",
    "\n",
    "Consider the comparison between Lists and Numpy Arrays. "
   ]
  },
  {
   "cell_type": "code",
<<<<<<< HEAD
   "execution_count": 15,
   "metadata": {
    "collapsed": true
   },
=======
   "execution_count": null,
   "metadata": {},
>>>>>>> b90f161cc445c8cee9cab3c54f2b0c03479cf288
   "outputs": [],
   "source": [
    "# let's define a function\n",
    "#  that sums the elements \n",
    "#  of an input\n",
    "\n",
    "\n",
    "def mysum(data):\n",
    "    \"\"\" \n",
    "    Sum the elements of an array\n",
    "    \"\"\"\n",
    "    asum = 0.0\n",
    "    for i in data:\n",
    "        asum = asum + i\n",
    "    return asum"
   ]
  },
  {
   "cell_type": "code",
<<<<<<< HEAD
   "execution_count": 16,
   "metadata": {
    "collapsed": false
   },
   "outputs": [
    {
     "name": "stdout",
     "output_type": "stream",
     "text": [
      "30.0\n"
     ]
    }
   ],
=======
   "execution_count": null,
   "metadata": {},
   "outputs": [],
>>>>>>> b90f161cc445c8cee9cab3c54f2b0c03479cf288
   "source": [
    "print(mysum([5,10,15]))\n"
   ]
  },
  {
   "cell_type": "code",
<<<<<<< HEAD
   "execution_count": 17,
   "metadata": {
    "collapsed": true
   },
=======
   "execution_count": null,
   "metadata": {},
>>>>>>> b90f161cc445c8cee9cab3c54f2b0c03479cf288
   "outputs": [],
   "source": [
    "# the length of the array is defined here, and re-used below\n",
    "# to test performance, we can make this number very large \n",
    "# 1000, 1000000 etc.\n",
    "\n",
    "n = pow(10, 5)"
   ]
  },
  {
   "cell_type": "code",
<<<<<<< HEAD
   "execution_count": 18,
=======
   "execution_count": null,
>>>>>>> b90f161cc445c8cee9cab3c54f2b0c03479cf288
   "metadata": {
    "scrolled": true
   },
<<<<<<< HEAD
   "outputs": [
    {
     "name": "stdout",
     "output_type": "stream",
     "text": [
      "100 loops, best of 3: 2.12 ms per loop\n",
      "10000 loops, best of 3: 86.5 µs per loop\n"
     ]
    }
   ],
=======
   "outputs": [],
>>>>>>> b90f161cc445c8cee9cab3c54f2b0c03479cf288
   "source": [
    "#create a list and a numpy array\n",
    "%timeit list(range(n))\n",
    "%timeit np.arange(n)\n"
   ]
  },
  {
   "cell_type": "code",
<<<<<<< HEAD
   "execution_count": 19,
=======
   "execution_count": null,
>>>>>>> b90f161cc445c8cee9cab3c54f2b0c03479cf288
   "metadata": {
    "scrolled": true
   },
<<<<<<< HEAD
   "outputs": [
    {
     "name": "stdout",
     "output_type": "stream",
     "text": [
      "100 loops, best of 3: 6.18 ms per loop\n",
      "10000 loops, best of 3: 56.7 µs per loop\n"
     ]
    }
   ],
=======
   "outputs": [],
>>>>>>> b90f161cc445c8cee9cab3c54f2b0c03479cf288
   "source": [
    "a_l = list(range(n))\n",
    "a_np= np.arange(n)\n",
    "\n",
    "%timeit mysum(a_l)\n",
    "%timeit a_np.sum()"
   ]
  },
  {
   "cell_type": "code",
<<<<<<< HEAD
   "execution_count": 20,
   "metadata": {
    "collapsed": false
   },
   "outputs": [
    {
     "name": "stdout",
     "output_type": "stream",
     "text": [
      "10 loops, best of 3: 103 ms per loop\n",
      "10000 loops, best of 3: 92.6 µs per loop\n"
     ]
    }
   ],
=======
   "execution_count": null,
   "metadata": {},
   "outputs": [],
>>>>>>> b90f161cc445c8cee9cab3c54f2b0c03479cf288
   "source": [
    "%timeit [k**2 for k in a_l]\n",
    "%timeit a_np**2\n"
   ]
  },
  {
   "cell_type": "markdown",
   "metadata": {},
   "source": [
    "---\n",
    "\n",
    "Finally, this notebook can also be saved in python, and run through ipython (*or python if no cell_magic was used*). Try this out!\n",
    "\n",
    "Notice the difference in running it via\n",
    "```\n",
    "    python Lecture5_03-arrays.py\n",
    "```\n",
    "and\n",
    "```\n",
    "    ipython Lecture5_03-arrays.py\n",
    "```\n"
   ]
  },
  {
   "cell_type": "code",
   "execution_count": null,
   "metadata": {},
   "outputs": [],
   "source": []
  }
 ],
 "metadata": {
  "anaconda-cloud": {},
  "kernelspec": {
   "display_name": "Python 3",
   "language": "python",
   "name": "python3"
  },
  "language_info": {
   "codemirror_mode": {
    "name": "ipython",
    "version": 3
   },
   "file_extension": ".py",
   "mimetype": "text/x-python",
   "name": "python",
   "nbconvert_exporter": "python",
   "pygments_lexer": "ipython3",
   "version": "3.6.2"
  }
 },
 "nbformat": 4,
 "nbformat_minor": 1
}
