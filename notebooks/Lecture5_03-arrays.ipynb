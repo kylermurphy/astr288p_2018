{
 "cells": [
  {
   "cell_type": "markdown",
   "metadata": {},
   "source": [
    "# Lecture 5: More Pythony Goodness\n",
    "## Arrays and Numpy\n",
    "\n",
    "### 1. Python Lists\n",
    "What happens when we add two lists together? "
   ]
  },
  {
   "cell_type": "code",
   "execution_count": null,
   "metadata": {},
   "outputs": [],
   "source": [
    "a = [1,2,3]\n",
    "b = [4,5,6]\n",
    "c = a+b\n",
    "print(c)"
   ]
  },
  {
   "cell_type": "markdown",
   "metadata": {},
   "source": [
    "You can see, adding two lists just results in a longer list, catenation of the two. Is this what you **expected** would happen? \n",
    "\n",
    "If you were adding vectors what would you **expect** to happen?\n",
    "\n",
    "What about appending an array?\n"
   ]
  },
  {
   "cell_type": "code",
   "execution_count": null,
   "metadata": {},
   "outputs": [],
   "source": [
    "print(a)\n",
    "print(b)\n",
    "a.append(b)\n",
    "print(a)"
   ]
  },
  {
   "cell_type": "code",
   "execution_count": null,
   "metadata": {
    "scrolled": true
   },
   "outputs": [],
   "source": [
    "len(a)\n",
    "print(a[0])\n",
    "print(a[3])\n",
    "print(a[3][1])"
   ]
  },
  {
   "cell_type": "markdown",
   "metadata": {},
   "source": [
    "Notice that the 3rd element in ```a``` is the list ```b``` itself. Recall from the last lecture that elements within a list can be of different types. This can become confusing/error prone when trying to any type of math.  \n",
    "\n",
    "**NOTE**: 3rd is a python 3rd, in human counting you would probably say 4th."
   ]
  },
  {
   "cell_type": "markdown",
   "metadata": {},
   "source": [
    "### 2. Numpy\n",
    "\n",
    "Numpy addresses some of the limitations in Python regarding data types, effeciency, representation of matrices, matrix manipulation and linear algerbra.\n",
    "\n",
    "- The official [Numpy documentation](http://numpy.org/) \n",
    "- List of the [data types](http://docs.scipy.org/doc/numpy-1.10.1/user/basics.types.html) in Numpy\n",
    "\n",
    "### Creating arrays with Numpy"
   ]
  },
  {
   "cell_type": "code",
   "execution_count": null,
   "metadata": {},
   "outputs": [],
   "source": [
    "import numpy as np                  # access all of numpy with 'np' \n",
    "\n",
    "#'from numpy import *' works too \n",
    "# however, this is bad coding style \n",
    "# as it pollutes your namespace and \n",
    "# you can 'overwrite' certain objects,\n",
    "# variables, or methods\n",
    "\n",
    "# a single element array\n",
    "arr1 = np.array(4)\n",
    "print(arr1)\n",
    "print(arr1.dtype)\n",
    "print(arr1.shape)\n",
    "print(\"================\")\n",
    "\n",
    "# a 2x2 array .... confusing to see what's a row and what's a column\n",
    "arr1 = np.array([[7,6],[5,4]])\n",
    "print(arr1)\n",
    "print(arr1.dtype)\n",
    "print(arr1.shape)\n",
    "print(\"================\")\n",
    "\n",
    "#a 3x2 array  ... that's 3 rows, and 2 columns\n",
    "arr1 = np.array([[1.,2],[3,4],[5,6]])\n",
    "print(arr1)\n",
    "print(arr1.dtype)\n",
    "print(arr1.shape)\n",
    "\n"
   ]
  },
  {
   "cell_type": "code",
   "execution_count": null,
   "metadata": {},
   "outputs": [],
   "source": [
    "# an array of zeros\n",
    "# dtype specifies the type\n",
    "# can use: \n",
    "# 'np.int64' -> 64 bit integer\n",
    "# 'np.uint64' -> unsigned 64 bit integer, can't take on negative values \n",
    "# 'np.complex64' -> 64 bit complex (2 32 bit floats, one real and one imaginary)\n",
    "          \n",
    "np.zeros([3,3], dtype=np.float64)"
   ]
  },
  {
   "cell_type": "code",
   "execution_count": null,
   "metadata": {},
   "outputs": [],
   "source": [
    "# an array of eleven ones\n",
    "np.ones(11)"
   ]
  },
  {
   "cell_type": "code",
   "execution_count": null,
   "metadata": {},
   "outputs": [],
   "source": [
    "# an empty array\n",
    "# may be faster to generate then \n",
    "#  an array of zeros or ones but the\n",
    "#  entries are random\n",
    "# test different sizes\n",
    "np.empty(33)"
   ]
  },
  {
   "cell_type": "code",
   "execution_count": null,
   "metadata": {},
   "outputs": [],
   "source": [
    "# an evenly and linearly spaced array\n",
    "print('linspace',np.linspace(0,100,11)) # start, stop, number of samples/entries\n",
    "\n",
    "# note the difference between range\n",
    "print('range   ',range(0,100,10)) # start, stop, step\n",
    "\n",
    "# np.arange() is the numpy equivalent to pythons range()\n",
    "print('arange  ',np.arange(0,100,10))\n",
    "\n",
    "# logrithmically spaced array\n",
    "print('logspace',np.logspace(3,6,4))"
   ]
  },
  {
   "cell_type": "code",
   "execution_count": null,
   "metadata": {},
   "outputs": [],
   "source": [
    "# reshaping arrays\n",
    "c = np.arange(10)\n",
    "\n",
    "# reshape into a 5x2 array:    5r, 2c\n",
    "c2=np.array(c.reshape(5,2))\n",
    "print(c)\n",
    "print(c2)"
   ]
  },
  {
   "cell_type": "code",
   "execution_count": null,
   "metadata": {},
   "outputs": [],
   "source": [
    "# reshape into a 4x3 array\n",
    "c3=np.array(c.reshape(4,3)) # python will complain since the dimensions on not compatiable"
   ]
  },
  {
   "cell_type": "markdown",
   "metadata": {},
   "source": [
    "---\n",
    "\n",
    "### Copying arrays with Numpy\n",
    "\n",
    "Similar to lists (previous notebook) you must be **aware of referencing and copying**"
   ]
  },
  {
   "cell_type": "code",
   "execution_count": null,
   "metadata": {},
   "outputs": [],
   "source": [
    "a = np.linspace(0,100,11)\n",
    "b = a # reference assignment only\n",
    "\n",
    "b[3] = 0\n",
    "\n",
    "print(a)\n",
    "print(b)\n"
   ]
  },
  {
   "cell_type": "code",
   "execution_count": null,
   "metadata": {},
   "outputs": [],
   "source": [
    "# Use np.copy to copy an array\n",
    "a = np.linspace(0,100,11)\n",
    "b = np.copy(a)\n",
    "\n",
    "# Note negativing indexing works like with lists\n",
    "c[-1] = 0\n",
    "b[3]  = 0\n",
    "\n",
    "print(a)\n",
    "print(b)\n",
    "print(c)"
   ]
  },
  {
   "cell_type": "markdown",
   "metadata": {},
   "source": [
    "The same is true when reshaping an array. \n",
    "\n",
    "We saw an example of reshape just before. Is that a copy or a reference assigment.\n",
    "\n",
    "---"
   ]
  },
  {
   "cell_type": "markdown",
   "metadata": {},
   "source": [
    "### Broadcasting, Arithmetic and Numpy Arrays\n",
    "\n",
    "What happens when we add two Numpy arrays together?  At the top of this notebook we had:\n"
   ]
  },
  {
   "cell_type": "code",
   "execution_count": null,
   "metadata": {},
   "outputs": [],
   "source": [
    "a = [1,2,3]\n",
    "b = [4,5,6]\n",
    "c = a+b\n",
    "print(c)"
   ]
  },
  {
   "cell_type": "code",
   "execution_count": null,
   "metadata": {},
   "outputs": [],
   "source": [
    "a = np.array([1,2,3])\n",
    "b = np.array([4,5,6])\n",
    "c = a+b\n",
    "\n",
    "print(c)\n",
    "\n",
    "print(a+11)\n",
    "print(a*3)\n",
    "\n"
   ]
  },
  {
   "cell_type": "code",
   "execution_count": null,
   "metadata": {},
   "outputs": [],
   "source": [
    "# a bit more complex\n",
    "a=np.arange(10)\n",
    "b=np.arange(10)\n",
    "c = a + b\n",
    "d = 3*a*a + b + 2.0\n",
    "print(c)\n",
    "print(d)"
   ]
  },
  {
   "cell_type": "code",
   "execution_count": null,
   "metadata": {
    "scrolled": true
   },
   "outputs": [],
   "source": [
    "# Array must have similar dimensions to broadcast\n",
    "arr1 = np.arange(4)\n",
    "arr2 = np.arange(10, 15)\n",
    "\n",
    "print(arr1)\n",
    "print(arr2)\n",
    "\n",
    "print(arr1+arr2)"
   ]
  },
  {
   "cell_type": "markdown",
   "metadata": {},
   "source": [
    "\n",
    "**Broadcasting** is a powerful way to effeciently manipulate arrays. When numpy broadcasts new arrays aren't created. In the example above, ```a+11```, the addition was carried out as if ```11``` was a 1-d array the same size as ```a```, however no new array was created. This can save memory and can have implications on the performance of code especially when arrays are large.\n",
    "\n",
    "**Note** that when broadcasting arrays must have similar dimensions or one array needs to have a dimension of 1 or none. \n",
    "\n",
    "---"
   ]
  },
  {
   "cell_type": "markdown",
   "metadata": {},
   "source": [
    "## 3. Efficiency in Numpy\n",
    "\n",
    "Numpy not only provides a set of datatype that *act* how you might expect vectors and matrices to act but it also also extremely effecient compare to Pythons inherent data types. \n",
    "\n",
    "Consider the comparison between Lists and Numpy Arrays. "
   ]
  },
  {
   "cell_type": "code",
   "execution_count": null,
   "metadata": {},
   "outputs": [],
   "source": [
    "# let's define a function\n",
    "#  that sums the elements \n",
    "#  of an input\n",
    "\n",
    "\n",
    "def mysum(data):\n",
    "    \"\"\" \n",
    "    Sum the elements of an array\n",
    "    \"\"\"\n",
    "    asum = 0.0\n",
    "    for i in data:\n",
    "        asum = asum + i\n",
    "    return asum"
   ]
  },
  {
   "cell_type": "code",
   "execution_count": null,
   "metadata": {},
   "outputs": [],
   "source": [
    "print(mysum([5,10,15]))\n"
   ]
  },
  {
   "cell_type": "code",
   "execution_count": null,
   "metadata": {},
   "outputs": [],
   "source": [
    "# the length of the array is defined here, and re-used below\n",
    "# to test performance, we can make this number very large \n",
    "# 1000, 1000000 etc.\n",
    "\n",
    "n = pow(10, 5)"
   ]
  },
  {
   "cell_type": "code",
   "execution_count": null,
   "metadata": {
    "scrolled": true
   },
   "outputs": [],
   "source": [
    "#create a list and a numpy array\n",
    "%timeit list(range(n))\n",
    "%timeit np.arange(n)\n"
   ]
  },
  {
   "cell_type": "code",
   "execution_count": null,
   "metadata": {
    "scrolled": true
   },
   "outputs": [],
   "source": [
    "a_l = list(range(n))\n",
    "a_np= np.arange(n)\n",
    "\n",
    "%timeit mysum(a_l)\n",
    "%timeit a_np.sum()"
   ]
  },
  {
   "cell_type": "code",
   "execution_count": null,
   "metadata": {},
   "outputs": [],
   "source": [
    "%timeit [k**2 for k in a_l]\n",
    "%timeit a_np**2\n"
   ]
  },
  {
   "cell_type": "markdown",
   "metadata": {},
   "source": [
    "---\n",
    "\n",
    "Finally, this notebook can also be saved in python, and run through ipython (*or python if no cell_magic was used*). Try this out!\n",
    "\n",
    "Notice the difference in running it via\n",
    "```\n",
    "    python Lecture5_03-arrays.py\n",
    "```\n",
    "and\n",
    "```\n",
    "    ipython Lecture5_03-arrays.py\n",
    "```\n"
   ]
  },
  {
   "cell_type": "code",
   "execution_count": null,
   "metadata": {},
   "outputs": [],
   "source": []
  }
 ],
 "metadata": {
  "anaconda-cloud": {},
  "kernelspec": {
   "display_name": "Python 3",
   "language": "python",
   "name": "python3"
  },
  "language_info": {
   "codemirror_mode": {
    "name": "ipython",
    "version": 3
   },
   "file_extension": ".py",
   "mimetype": "text/x-python",
   "name": "python",
   "nbconvert_exporter": "python",
   "pygments_lexer": "ipython3",
   "version": "3.6.2"
  }
 },
 "nbformat": 4,
 "nbformat_minor": 1
}
