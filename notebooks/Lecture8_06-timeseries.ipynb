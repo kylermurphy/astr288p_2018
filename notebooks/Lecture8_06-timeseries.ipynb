{
 "cells": [
  {
   "cell_type": "markdown",
   "metadata": {},
   "source": [
    "# Time Series Analysis\n",
    "\n",
    "## Time Series\n",
    "\n",
    "A time series is a set of observations (data points) recorded as a function of time.\n",
    "\n",
    "For instance, the example below is for an n-point time series of some observable $x$ as a fucntion of $t$. \n",
    "\n",
    "$$x(t) = [x(t_{0}),  x(t_{1}),  x(t_{2}),  x(t_{3}), ... ,  x(t_{n-1})] $$\n",
    "\n",
    "Generaly, $t$ is sampled at equally spaced intervals referred to as the temporal resolution or cadence of the time series $\\Delta t$.\n",
    "\n",
    "$$ \\Delta t = t_{1}-t_{0} = t_{i+1} - t_{i} $$\n"
   ]
  },
  {
   "cell_type": "code",
   "execution_count": null,
   "metadata": {},
   "outputs": [],
   "source": [
    "# create a time-series here"
   ]
  },
  {
   "cell_type": "markdown",
   "metadata": {},
   "source": [
    "Time series are used in a variety of fields including: \n",
    "- statistics\n",
    "- economics\n",
    "- weather forecasting\n",
    "- astronomy\n",
    "- physics\n",
    "- applied science\n",
    "\n",
    "Analysis of these time series, or *time series analysis*, can be used to extract meaningful information from a data set such as trends (forecasting/modeling), relation of one time-series to another (regression or correlation), or frequency content (waves).\n",
    "\n",
    "\n",
    "## Time Series Analysis\n",
    "\n",
    "Time series analysis - methods for analyzing time series data to extract meaningful information from the data. Examples include:\n",
    "- filtering\n",
    "- principle component analysis\n",
    "- singular-value decomposition\n",
    "- auto-correlation and cross-correlation\n",
    "- regression analysis \n",
    "- fourier analysis\n",
    "\n",
    "## The Fourier Transform\n",
    "\n",
    "The Fourier Transform is one of the most common time series analysis tools and is used to decompose a signal (or input series) into sinusoid, cosines and sines. \n",
    "\n",
    "Consider a time series $x(t)$ which describes the quantity $x$ in the _time domain_ as a fucntion of time $t$. This same series can also be described in the _frequency_ domain by a series of cosines and sines with amplitude $X$ as function of frequency $f$.  \n",
    "\n",
    "The functions $x(t)$ and $X(f)$ can be thought of as two seperate representations of the same function. The Fourier Transform allows us to move between these two representations. \n",
    "\n",
    "$$ X(f) = \\int\\limits_{-\\infty}^{\\infty} x(t)e^{\\,2\\pi\\,i\\,f\\,t} dt \\quad\\text{ - the Fourier Transform}$$ \n",
    "\n",
    "$$ x(t) = \\int\\limits_{-\\infty}^{\\infty} X(f)e^{\\,-2\\pi\\,i\\,f\\,t} df \\quad\\text{ - the Inverse Fourier Transform}$$ \n",
    "\n",
    "\n",
    "which can be "
   ]
  }
 ],
 "metadata": {
  "kernelspec": {
   "display_name": "Python 3",
   "language": "python",
   "name": "python3"
  },
  "language_info": {
   "codemirror_mode": {
    "name": "ipython",
    "version": 3
   },
   "file_extension": ".py",
   "mimetype": "text/x-python",
   "name": "python",
   "nbconvert_exporter": "python",
   "pygments_lexer": "ipython3",
   "version": "3.6.4"
  }
 },
 "nbformat": 4,
 "nbformat_minor": 2
}
