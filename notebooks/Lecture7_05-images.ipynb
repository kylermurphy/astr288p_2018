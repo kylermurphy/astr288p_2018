{
 "cells": [
  {
   "cell_type": "markdown",
   "metadata": {},
   "source": [
    "# Lecture 7: Rows, Columns, Images\n",
    "\n",
    "Two dimensional data arrays are normally stored in column-major or row-major order. \n",
    "\n",
    "In **row-major**, order adjacent elements within a **row** are stored next to each other in memory. In **column-major**, order adjacent elements within a **column** are stored next to each other in memory. See also https://en.wikipedia.org/wiki/Matrix_representation.\n",
    "\n",
    "For the usual mathematical matrix notation $A_{ij}$, where $i$ is the row, and $j$ the column, we have in the case of a $3x4$ matrix:\n",
    "\n",
    "$$\n",
    "A = \\begin{bmatrix}\n",
    "a_{11} & a_{12} & a_{13} & a_{14}\\\\\n",
    "a_{21} & a_{22} & a_{23} & a_{24}\\\\\n",
    "a_{31} & a_{32} & a_{33} & a_{34}\\\\\n",
    "\\end{bmatrix}\n",
    "$$\n",
    "\n",
    "or (zero-indexed):\n",
    "\n",
    "$$\n",
    "A = \\begin{bmatrix}\n",
    "a_{00} & a_{01} & a_{02} & a_{03}\\\\\n",
    "a_{10} & a_{11} & a_{12} & a_{13}\\\\\n",
    "a_{20} & a_{21} & a_{33} & a_{23}\\\\\n",
    "\\end{bmatrix}\n",
    "$$\n",
    "\n",
    "Classic languages such as Fortran store their arrays in so-called column-major order. **FDATA(NR,NC)**, and indices start at 1. \n",
    "\n",
    "More modern language, such a C, store their arrays in row-major order,  **CDATA[NR][NC]**, with indices starting at 0.\n",
    "```\n",
    "    col major:   fdata(1,1),  fdata(2,1), ...        first index runs fastest \n",
    "    row major:   cdata[0][0], cdata[0][1], ...       last index runs fastest  \n",
    "```\n",
    "\n",
    "Examples of column major are: Fortran, MatLab, IDL, R, and Julia\n",
    "\n",
    "Examples of row major are: C and Python\n",
    "\n",
    "Images or matrices are often referred to in X and Y coordinates, like a mathematical system. The origin would be at (0,0) in the lower left corner; however, this convention can vary from field to field. For instance, image processing software normally puts the (0,0) origin at the top left corner, which is similar to how the matrix above is printed. \n",
    "\n",
    "This, together with row-major and column-major can make it challenging to interchange data and plot them on the screen between fields and programming language and having to re-order axis' (especially for large data sets) can be a very expensive operation.\n",
    "\n",
    "## 1. A Simple Example\n"
   ]
  },
  {
   "cell_type": "code",
   "execution_count": null,
   "metadata": {
    "collapsed": true
   },
   "outputs": [],
   "source": [
    "%matplotlib inline\n",
    "import matplotlib.pyplot as plt\n",
    "\n",
    "import numpy as np\n",
    "\n",
    "# lets import fits from astropy,\n",
    "#  one of many more complex file types\n",
    "#  for storing multi-dimensional data\n",
    "# common data type for astronomy\n",
    "# Flexible Image Transport System\n",
    "# Other's include, CDF, Net CDF, HD5, matlab .m files, idl .sav files\n",
    "\n",
    "from astropy.io import fits         "
   ]
  },
  {
   "cell_type": "markdown",
   "metadata": {},
   "source": [
    "Get the Header-Data-Units (hdu's) from a fits file. This particular one only has 1."
   ]
  },
  {
   "cell_type": "code",
   "execution_count": null,
   "metadata": {
    "collapsed": false
   },
   "outputs": [],
   "source": [
    "# open a simple fit's file\n",
    "\n",
    "hdu = fits.open('../data/cube432.fits')\n",
    "print(len(hdu))\n",
    "hdu.info()"
   ]
  },
  {
   "cell_type": "code",
   "execution_count": null,
   "metadata": {
    "collapsed": false
   },
   "outputs": [],
   "source": [
    "# access the header\n",
    "h = hdu[0].header\n",
    "# access the data\n",
    "d = hdu[0].data\n",
    "\n",
    "#what is the header?\n",
    "print(type(h))\n",
    "\n",
    "#what type of data?\n",
    "print(type(d))\n",
    "print(d.shape)\n",
    "print(d)"
   ]
  },
  {
   "cell_type": "code",
   "execution_count": null,
   "metadata": {
    "collapsed": false
   },
   "outputs": [],
   "source": [
    "f=d[1,:,:]\n",
    "print(f)\n",
    "\n",
    "f[:,1:3] #slicing does not include the last index"
   ]
  },
  {
   "cell_type": "markdown",
   "metadata": {},
   "source": [
    "This 4x3x2 matrix can actually also be generated from scratch using basic numpy:"
   ]
  },
  {
   "cell_type": "code",
   "execution_count": null,
   "metadata": {
    "collapsed": false
   },
   "outputs": [],
   "source": [
    "\n",
    "\n",
    "d1 = np.zeros(2*3*4).reshape(2,3,4)\n",
    "dimensions = d1.shape\n",
    "for z in range(dimensions[0]):\n",
    "    for y in range(dimensions[1]):\n",
    "        for x in range(dimensions[2]):\n",
    "            d1[z,y,x] = x + 10*y + 100*z\n",
    "print(d1)\n",
    "\n",
    "\n",
    "d1.shape"
   ]
  },
  {
   "cell_type": "code",
   "execution_count": null,
   "metadata": {
    "collapsed": false
   },
   "outputs": [],
   "source": [
    "np.arange(2*3*4).reshape((2,3,4))"
   ]
  },
  {
   "cell_type": "code",
   "execution_count": null,
   "metadata": {
    "collapsed": false
   },
   "outputs": [],
   "source": [
    "print(d1.flatten())"
   ]
  },
  {
   "cell_type": "code",
   "execution_count": null,
   "metadata": {
    "collapsed": false
   },
   "outputs": [],
   "source": [
    "print(d1.flatten('f'))"
   ]
  },
  {
   "cell_type": "code",
   "execution_count": null,
   "metadata": {
    "collapsed": false
   },
   "outputs": [],
   "source": [
    "# are two arrays the same (or close enough?)\n",
    "print(d)\n",
    "print(d1)\n",
    "np.allclose(d,d1) #Returns True if two arrays are element-wise equal within a tolerance."
   ]
  },
  {
   "cell_type": "markdown",
   "metadata": {},
   "source": [
    "## 2. Slicing Multi-Dimensional Arrays/Images\n",
    "\n",
    "For a 3-D array, you can think of things being indexed as [z,y,x]. \n",
    "\n",
    "This 3-D array could be multiple images with the z-axis corresponding to time or a each of z, y, and x corresponding to spatial coordinates. \n",
    "\n",
    "The 2x3x4 matrix we loaded above would look like:"
   ]
  },
  {
   "cell_type": "code",
   "execution_count": null,
   "metadata": {
    "collapsed": false
   },
   "outputs": [],
   "source": [
    "d1 = np.zeros(2*3*4).reshape(2,3,4)\n",
    "for z in range(2):\n",
    "    for y in range(3):\n",
    "        for x in range(4):\n",
    "            d1[z,y,x] = x + 10*y + 100*z\n",
    "print(d1)\n"
   ]
  },
  {
   "cell_type": "code",
   "execution_count": null,
   "metadata": {
    "collapsed": false
   },
   "outputs": [],
   "source": [
    "print('--')\n",
    "print(d1[1])\n",
    "print('--')\n",
    "print(d1[1,0,0:2])\n",
    "print('--')\n",
    "print(d1[1,0:2,0])\n",
    "print('--')\n",
    "print(d1[1,0:2,1::])\n",
    "print('--')\n",
    "print(d1[1,1:3,1:-1])\n",
    "print('--')\n",
    "print(d1[0,:,1:])"
   ]
  },
  {
   "cell_type": "markdown",
   "metadata": {},
   "source": [
    "## 3. Manipulating Dimensions/Axes of Multi-Dimensional Arrays/Images \n",
    "\n",
    "We now want to take a plane from this cube, and plot this in a heatmap or contour map. We are now faced deciding how columns and rows translate to X and Y on a plot. Math, Astronomy, Geography and Image Processing groups all differ a bit how they prefer to see this, so numpy comes  with a number of function to help you with this:\n",
    "\n",
    "* np.reshape\n",
    "* np.transpose (or T)\n",
    "* np.flipud\n",
    "* np.fliplr\n",
    "* np.rot90\n",
    "* np.swapaxes\n",
    "* np.moveaxis\n",
    "\n",
    "the important thing to realize is that they all give a new **view** of the array, which often is more efficient as moving the actual values."
   ]
  },
  {
   "cell_type": "code",
   "execution_count": null,
   "metadata": {
    "collapsed": false,
    "scrolled": true
   },
   "outputs": [],
   "source": [
    "p0 = d[0,:,:]\n",
    "p1 = d[1,:,:]\n",
    "print(p0)\n",
    "plt.imshow(p0)\n",
    "plt.colorbar()"
   ]
  },
  {
   "cell_type": "code",
   "execution_count": null,
   "metadata": {
    "collapsed": false
   },
   "outputs": [],
   "source": [
    "plt.matshow(p0,origin='lower')"
   ]
  },
  {
   "cell_type": "markdown",
   "metadata": {},
   "source": [
    "Note that for a small 4x3 matrix this image has been artificially made smooth by interpolating in imshow(); however you can already see that the integer coordinates are at the center of a cell:  (0.0) is the center of the lower left cell. This is a little more obvious when you turn off interpolation:\n"
   ]
  },
  {
   "cell_type": "code",
   "execution_count": null,
   "metadata": {
    "collapsed": false
   },
   "outputs": [],
   "source": [
    "plt.imshow(p0,interpolation='none',origin='lower')\n",
    "plt.colorbar()"
   ]
  },
  {
   "cell_type": "markdown",
   "metadata": {},
   "source": [
    "if you want to print the array values on the terminal with 0 at the bottom left, use the np.flipup() function:"
   ]
  },
  {
   "cell_type": "code",
   "execution_count": null,
   "metadata": {
    "collapsed": false
   },
   "outputs": [],
   "source": [
    "print(np.flipud(p0))\n",
    "plt.imshow(np.flipud(p0),interpolation='none')\n",
    "plt.colorbar()"
   ]
  },
  {
   "cell_type": "code",
   "execution_count": null,
   "metadata": {
    "collapsed": false
   },
   "outputs": [],
   "source": [
    "import numpy.ma as ma\n",
    "\n",
    "a = np.arange(4)\n",
    "am = ma.masked_equal(a,2)\n",
    "print(a.sum(),am.sum())\n",
    "print(am.data,am.mask)"
   ]
  },
  {
   "cell_type": "markdown",
   "metadata": {},
   "source": [
    "### Some Real Data\n"
   ]
  },
  {
   "cell_type": "code",
   "execution_count": null,
   "metadata": {
    "collapsed": true
   },
   "outputs": [],
   "source": [
    "# lets load the matplot lib color scales\n",
    "#  and image module to readin images\n",
    "\n",
    "import matplotlib.colors as colors\n",
    "import matplotlib.image as mpimg\n",
    "\n",
    "hdu = fits.open('../data/PKR_DASC_0558_20151220_044655.730.FITS')"
   ]
  },
  {
   "cell_type": "code",
   "execution_count": null,
   "metadata": {
    "collapsed": false
   },
   "outputs": [],
   "source": [
    "print(len(hdu))\n",
    "for HDU in hdu:\n",
    "    print(HDU)"
   ]
  },
  {
   "cell_type": "code",
   "execution_count": null,
   "metadata": {
    "collapsed": false
   },
   "outputs": [],
   "source": [
    "h = hdu[0].header\n",
    "d = hdu[0].data\n",
    "print(d.shape, d.min(), d.max(), d.mean(), np.median(d), d.std())\n",
    "hdu.info()"
   ]
  },
  {
   "cell_type": "code",
   "execution_count": null,
   "metadata": {
    "collapsed": false
   },
   "outputs": [],
   "source": [
    "im = d\n",
    "plt.imshow(im,origin=['Lower'], norm=colors.LogNorm(vmin=300,vmax=1000) )\n",
    "plt.colorbar()\n",
    "print(im.shape)"
   ]
  },
  {
   "cell_type": "code",
   "execution_count": null,
   "metadata": {
    "collapsed": false
   },
   "outputs": [],
   "source": [
    "plt.imshow(np.rot90(im,k=1), origin=['Lower'], norm=colors.LogNorm(vmin=300,vmax=2000), cmap='Greens' )\n",
    "plt.colorbar()"
   ]
  },
  {
   "cell_type": "code",
   "execution_count": null,
   "metadata": {
    "collapsed": false
   },
   "outputs": [],
   "source": [
    "img = mpimg.imread('../data/20151220_081842_yknf_slr-08_full.jpg')\n",
    "img.shape"
   ]
  },
  {
   "cell_type": "code",
   "execution_count": null,
   "metadata": {
    "collapsed": true
   },
   "outputs": [],
   "source": [
    "plt.imshow(img)"
   ]
  },
  {
   "cell_type": "code",
   "execution_count": null,
   "metadata": {
    "collapsed": false
   },
   "outputs": [],
   "source": [
    "# Plot the different RGB channels\n",
    "fig, axes = plt.subplots(1, 4, figsize=(20,12))\n",
    "\n",
    "axes[0].imshow(img[:, :, 0], cmap='Reds')\n",
    "axes[1].imshow(img[:, :, 1], cmap='Greens') \n",
    "axes[2].imshow(img[:, :, 2], cmap='Blues') \n",
    "axes[3].imshow(img)\n",
    "\n",
    "for a in axes:\n",
    "    a.set_xticklabels([])\n",
    "    a.set_yticklabels([])"
   ]
  },
  {
   "cell_type": "markdown",
   "metadata": {},
   "source": [
    "## 4. Contour Plots\n",
    "\n",
    "Ideal for plotting multple Image-like datasets on the same figure, such as identifying active regions on the sun (etc. coronal holes, sun spots) or the crustal magnetic field strength at Mars (below).\n",
    "\n",
    "![Mars Crustal Fields](../data/MarsCrustalFields.png \"Mars Crustal Fields\")\n",
    "[The construction of sparse models of Mars's crustal magnetic field [Moore and Bloxham 2017]](http://onlinelibrary.wiley.com.proxy-um.researchport.umd.edu/doi/10.1002/2016JE005238/full). \n",
    "\n",
    "The plot above was generated in **exercises/MarsCrustalField.ipynb**.\n"
   ]
  },
  {
   "cell_type": "code",
   "execution_count": null,
   "metadata": {
    "collapsed": false
   },
   "outputs": [],
   "source": [
    "def f(x,y):\n",
    "    return (1-x/2+x**5+y**3)*np.exp(-x**2-y**2)\n",
    "\n",
    "n = 256\n",
    "x = np.linspace(-3,3,n)\n",
    "y = np.linspace(-3,3,n)\n",
    "X,Y = np.meshgrid(x,y)\n",
    "\n",
    "plt.axes([0.025,0.025,0.95,0.95])\n",
    "\n",
    "plt.contourf(X, Y, f(X,Y), 10, alpha=.75, cmap=plt.cm.hot)\n",
    "plt.colorbar()\n",
    "\n",
    "C = plt.contour(X, Y, f(X,Y), 10, colors='black', linewidths=.5)\n",
    "plt.clabel(C, inline=1, fontsize=10)\n",
    "plt.xticks([])\n",
    "plt.yticks([])"
   ]
  },
  {
   "cell_type": "markdown",
   "metadata": {},
   "source": [
    "\n",
    "## 5. Matrix Manipulation\n",
    "\n"
   ]
  },
  {
   "cell_type": "markdown",
   "metadata": {},
   "source": [
    "### Inner and Outer loop order of execution\n",
    "\n",
    "Set up a (random) square matrix and vector. Multiply the matrix with a vector and measure the performance difference if you order the loops differently."
   ]
  },
  {
   "cell_type": "code",
   "execution_count": null,
   "metadata": {
    "collapsed": false
   },
   "outputs": [],
   "source": [
    "%%time \n",
    "n = 1000\n",
    "m = n*10\n",
    "np.random.seed(123)\n",
    "a = np.random.normal(size=m*n).reshape(m,n)\n",
    "x = np.random.normal(size=n)\n",
    "print(x[0])\n",
    "#\n",
    "#a = np.arange(n*n).reshape(n,n)\n",
    "#x = np.arange(n)"
   ]
  },
  {
   "cell_type": "code",
   "execution_count": null,
   "metadata": {
    "collapsed": false
   },
   "outputs": [],
   "source": [
    "%%timeit\n",
    "b = np.matmul(a,x)"
   ]
  },
  {
   "cell_type": "code",
   "execution_count": null,
   "metadata": {
    "collapsed": false
   },
   "outputs": [],
   "source": [
    "print(a.shape,x.shape)"
   ]
  },
  {
   "cell_type": "code",
   "execution_count": null,
   "metadata": {
    "collapsed": false
   },
   "outputs": [],
   "source": [
    "%%timeit\n",
    "b1 = np.zeros(m)\n",
    "for i in range(m):\n",
    "    for j in range(n):\n",
    "        b1[i] = b1[i] + a[i,j]*x[j]"
   ]
  },
  {
   "cell_type": "code",
   "execution_count": null,
   "metadata": {
    "collapsed": false
   },
   "outputs": [],
   "source": [
    "%%timeit\n",
    "b2 = np.zeros(m)\n",
    "for i in range(m):\n",
    "    ai = a[i,:]\n",
    "    b2[i] = b2[i] + np.inner(ai,x)"
   ]
  },
  {
   "cell_type": "code",
   "execution_count": null,
   "metadata": {
    "collapsed": false
   },
   "outputs": [],
   "source": [
    "%%timeit\n",
    "b3 = np.zeros(m)\n",
    "for j in range(n):\n",
    "    for i in range(m):\n",
    "        b3[i] = b3[i] + a[i,j]*x[j]"
   ]
  },
  {
   "cell_type": "code",
   "execution_count": null,
   "metadata": {
    "collapsed": false
   },
   "outputs": [],
   "source": [
    "if n < 3:\n",
    "    print('a',a,'\\nx',x)\n",
    "    print('b',b,'\\nb1',b1,'\\nb2',b2,'\\nb3',b3)\n",
    "else:\n",
    "    print(n)"
   ]
  },
  {
   "cell_type": "markdown",
   "metadata": {},
   "source": [
    "### Transposing"
   ]
  },
  {
   "cell_type": "code",
   "execution_count": null,
   "metadata": {
    "collapsed": false
   },
   "outputs": [],
   "source": [
    "%%timeit\n",
    "b = a.transpose()\n",
    "# note B is another view of A"
   ]
  },
  {
   "cell_type": "code",
   "execution_count": null,
   "metadata": {
    "collapsed": false
   },
   "outputs": [],
   "source": [
    "%%timeit\n",
    "c = np.zeros(n*m).reshape(n,m)\n",
    "\n",
    "for j in range(n):\n",
    "    for i in range(m):\n",
    "        c[j,i] = a[i,j]"
   ]
  },
  {
   "cell_type": "markdown",
   "metadata": {},
   "source": [
    "### Inversion"
   ]
  },
  {
   "cell_type": "code",
   "execution_count": null,
   "metadata": {
    "collapsed": true
   },
   "outputs": [],
   "source": [
    "from numpy.linalg import inv\n"
   ]
  },
  {
   "cell_type": "code",
   "execution_count": null,
   "metadata": {
    "collapsed": false
   },
   "outputs": [],
   "source": [
    "# Let's create a simple 2x2 matrix\n",
    "n = 2\n",
    "a1 = np.random.normal(size=n*n).reshape(n,n)\n",
    "\n",
    "print(a1)"
   ]
  },
  {
   "cell_type": "code",
   "execution_count": null,
   "metadata": {
    "collapsed": true
   },
   "outputs": [],
   "source": [
    "# and calculate the inverse \n",
    "ainv = inv(a1)"
   ]
  },
  {
   "cell_type": "code",
   "execution_count": null,
   "metadata": {
    "collapsed": false
   },
   "outputs": [],
   "source": [
    "print(a1)\n",
    "print(ainv)\n",
    "\n",
    "np.matrix(a1) * np.matrix(ainv)"
   ]
  },
  {
   "cell_type": "code",
   "execution_count": null,
   "metadata": {
    "collapsed": true
   },
   "outputs": [],
   "source": [
    "i1=np.matmul(a1,ainv)"
   ]
  },
  {
   "cell_type": "code",
   "execution_count": null,
   "metadata": {
    "collapsed": true
   },
   "outputs": [],
   "source": [
    "i0=np.eye(n)"
   ]
  },
  {
   "cell_type": "code",
   "execution_count": null,
   "metadata": {
    "collapsed": false
   },
   "outputs": [],
   "source": [
    "print(np.allclose(i0,i1,atol=1e-10))\n",
    "print(i1)"
   ]
  },
  {
   "cell_type": "code",
   "execution_count": null,
   "metadata": {
    "collapsed": true
   },
   "outputs": [],
   "source": []
  }
 ],
 "metadata": {
  "anaconda-cloud": {},
  "kernelspec": {
   "display_name": "Python 2",
   "language": "python",
   "name": "python2"
  },
  "language_info": {
   "codemirror_mode": {
    "name": "ipython",
    "version": 2
   },
   "file_extension": ".py",
   "mimetype": "text/x-python",
   "name": "python",
   "nbconvert_exporter": "python",
   "pygments_lexer": "ipython2",
   "version": "2.7.13"
  }
 },
 "nbformat": 4,
 "nbformat_minor": 1
}
