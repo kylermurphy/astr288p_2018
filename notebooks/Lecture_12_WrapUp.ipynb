{
 "cells": [
  {
   "cell_type": "markdown",
   "metadata": {},
   "source": [
    "# Lecture 12 Wrap Up (_review_)\n",
    "\n",
    "## Unix/Linux \n",
    "Terminal and Shell\n",
    "- How we interact the Unix/Linux environment from the command line.\n",
    "- The terminal and shell execute commands or lists of commands in a file referred to as shell script.\n",
    "    - bash, the shell used in class\n",
    "    - others exist, including tsch, chsh, ksh\n",
    "- Startup files, .bashrc and .bash_profile, run when a terminal or shell is first open and allow you to _setup your environment_, this includes:\n",
    "    - alias', ```alias```\n",
    "    - links, ```ln```\n",
    "    - paths, ```$PATH```, the directory or directories the shell looks for command/program executables"
   ]
  },
  {
   "cell_type": "markdown",
   "metadata": {},
   "source": [
    "Navigating and File Manipulation\n",
    "- Basic commands allow you to navigate within the terminal and linux enviroment\n",
    "    - ```ls```, ```cd```, ```ll```, ```pwd```\n",
    "- And similarly for file maniuplation\n",
    "    - Reading or viewing files, ```cat```, ```more```, ```less```\n",
    "    - Searching files or directores, ```find```, ```grep```, ```locate```\n",
    "    - Creating files or directories, ```mkdir```, piping ```>``` and ```>>```\n",
    "\n",
    "Help\n",
    "- If you know the name of the command then there are several tools which are useful to provide **help** the most useful are\n",
    "    - ```COMMAND --help```\n",
    "    - ```man COMMAND```\n",
    "- The internet is also an excellent resource for help on a particular ```COMMAND```, examples, or for identifying the command you are looking for (most simple tasks will have a specific ```COMMAND```, you just have to know where/how to find it... _google_).\n",
    "\n",
    "Scripting \n",
    "- Allows complex tasks to be completed by executing a series of commands within a script (in bash this is typically a _.sh_ file)\n",
    "\n",
    "Remote Sessions\n",
    "- Allow you to remotely access another machine the most common commands are\n",
    "    - ```ssh -Y user@remote``` which logs you into another maching with a login terminal.\n",
    "    - ``` scp file user@remote:destination``` which allows you to securely transfer files between machines.\n",
    "    \n",
    "This only brushes the surface of the Unix/Linux operating system. The internet is always an excellent resource to learn more regarding Linux and  _cheat sheats_, like the one handed out in class, are excellent resources. "
   ]
  },
  {
   "cell_type": "markdown",
   "metadata": {},
   "source": [
    "## Git\n",
    "\n",
    "A distributed version control system which tracks changes within a set of files. This is ideal for coding when programs and functionality can rapid change during development.\n",
    "\n",
    "Git allows for easy collaboration, allow you to revert back to older versions, compare changes between versions or _commits_, create a new _branch_ for testing new developments... **track changes, all changes, over all time!**"
   ]
  },
  {
   "cell_type": "markdown",
   "metadata": {},
   "source": [
    "## Python\n",
    "An interpreted or scripting language. A compiler is not required, the interpreter excutes commands/programs directly. \n",
    "- Installing python is simple with Miniconda (Anaconda) across almost all platforms (Windows, Windows Subsystem for Linux, Linux, and Mac).\n",
    "    - Though Miniconda can be installed on Windows directly there is a general loss of functionality; this is especially true when trying to work with packages not apart of Anaconda or Miniconda or requiring installation through compilers. Windows Subsystem for Linux fixes most of these drawbacks. \n",
    "- Can be ran through scripts, ipython terminal, jupyter notebook, and many other GUIs and IDEs including Spyder (available through Miniconda).\n",
    "- Package managers ```conda``` and ```pip``` allow for quickly (and simply) adding functionality to your Python distribution. "
   ]
  },
  {
   "cell_type": "markdown",
   "metadata": {},
   "source": [
    "## Jupyter Notebook\n",
    "A web application that allow you developers/programmers to share documents that contain live code (python, matlab,idl, etc.), visualization of data (matplotlib), formatted text (Markdown), and equations (Latex).\n",
    "\n",
    "- Useful resources for Markdown and LaTeX formula\n",
    "    - [GitHub Markdown](https://guides.github.com/features/mastering-markdown/)\n",
    "    - From Jupyter Notebook, [Markdown Cells](http://jupyter-notebook.readthedocs.io/en/stable/examples/Notebook/Working%20With%20Markdown%20Cells.html#) and [Examples](http://jupyter-notebook.readthedocs.io/en/stable/examples/Notebook/Typesetting%20Equations.html)\n",
    "    - [LaTex/Mathematics](https://en.wikibooks.org/wiki/LaTeX/Mathematics)"
   ]
  },
  {
   "cell_type": "markdown",
   "metadata": {},
   "source": [
    "## Python for Scientific Programming\n",
    "- Syntax and variables\n",
    "    - commments, #\n",
    "    - printing \n",
    "- Data structures, list, dictionary, and indexing lists starting at 0 and dictionaries using keys\n",
    "- Referncing vs assignment vs copying\n",
    "- Operators, manipulate or perform an action or comparison of data types.\n",
    "    - Arithmatic\n",
    "    - Comparison\n",
    "    - Assignment\n",
    "- Control and flow; functions, loops, and if statements seperate blocks of code and statements allowing for the effecient control of the _flow_ and _logic_ within a code.\n",
    "    - **if/then/else**, evaluate an expression or series of expressions and decide whether the expression is **TRUE** or **FLASE**. This outcome dictates which condition (or block) of the statement is excuted.\n",
    "    - **for-loop**, run over an iterator and  exectute a block of code a fixed number of times.\n",
    "    - **while-loop**, execute a block of code as long as a conditional expression is **TRUE**.\n",
    "    - **functions**,  a named section or block of code that performs a specific task. Once defined a function can be used over and over. \n",
    "- Reading in, manipulating, and analyzing data\n",
    "    - [Astropy](http://www.astropy.org/)\n",
    "    - [NumPy](http://www.numpy.org/)\n",
    "    - [SciPy](https://www.scipy.org/)\n",
    "    - [matplotlib](https://matplotlib.org/)\n"
   ]
  },
  {
   "cell_type": "markdown",
   "metadata": {},
   "source": [
    "## NumPy\n",
    "\n",
    "[NumPy](http://www.numpy.org/) is an effecient module for the representation and manipulation of multi-dimensional arrays or matrices.\n",
    "- Fast\n",
    "- Intuitive\n",
    "    - [Broadcasting](https://docs.scipy.org/doc/numpy-1.13.0/user/basics.broadcasting.html) arrays and functions (manipulation of array of different shapes when performing arithmetic)\n",
    "    - [Slicing and boolean indexing](https://docs.scipy.org/doc/numpy-1.13.0/reference/arrays.indexing.html)\n",
    "- Linear algerbra\n",
    "    - transposing\n",
    "    - inversion\n",
    "- Random numbers\n",
    "- Scientific [data types](http://docs.scipy.org/doc/numpy-1.10.1/user/basics.types.html); integers, floats, strings, complex numbers\n",
    "\n",
    "\n"
   ]
  },
  {
   "cell_type": "markdown",
   "metadata": {},
   "source": [
    "## matplotlib\n",
    "\n",
    "[matplotlib](https://matplotlib.org/) is the defacto standard for plotting in python.\n",
    "\n",
    "Plotting is one of the most important aspects of scientific analysis. It is how we convey results and analysis to colleagues in talks, posters, and articles. \n",
    "\n",
    "A simple, intuitive, and aesthetically pleasing plot can increase both the impact and overall undestanding of results. \n",
    "\n",
    "The [matplotlib gallery](http://matplotlib.org/gallery.html) provides examples for almost all types of plots you can think of and is an excellent resource for help and inspiration.\n",
    "\n",
    "**Note** other modules exist for plotting with Python with specfic functionality not availble in matplotlib."
   ]
  },
  {
   "cell_type": "markdown",
   "metadata": {},
   "source": [
    "## Time Series Analysis\n",
    "\n",
    "A time series is simply a set of observations recorded as a function of time. \n",
    "\n",
    "Though simple, time series are one of the most common data sets in science.\n",
    "\n",
    "There are a signficant number of tools for study and anlyzing time series in order to extract information from the time series. We studied fourier transforms which are used to characterize the periodicity of a time seires by decomposing a signal into sinusoids and estimating the power spectra of a time series.\n",
    "\n",
    "[SciPy](https://www.scipy.org/) provides an number of functions for perfoming Fourier analysis: \n",
    "- Fast Fourier Transform\n",
    "- Windowing \n",
    "- The Periodgram (power spectra estimation)\n",
    "- Whelch's method\n",
    "- The Spectrogram\n",
    "\n",
    "Entire courses (and sometimes multiple) are dedicated to time series analysis. Other topics include:\n",
    "- filtering\n",
    "- forecasting\n",
    "- regression\n",
    "- auto-correlation and cross-correlation\n",
    "- eigen value analysis (principle component analysis and singular-value decomposition)\n",
    "\n",
    " "
   ]
  },
  {
   "cell_type": "markdown",
   "metadata": {},
   "source": [
    "## Image Processing\n",
    "\n",
    "Image processing is the analysis and manipulation of images. We covered some very basic image processing in order to reduce noise and improve image quality in data contained within a FITS spectral data cube.\n",
    "- Smoothing to enhance signal to noise.\n",
    "- Masking to remove data below a threshold.\n",
    "\n",
    "Like time series analysis there are a number of additional tools and methods in image processing which help to extract information from an image.\n",
    "- Feature extraction, sharpening, or enhancing\n",
    "    - Least squares filtering\n",
    "    - 2D Fourier filtering\n",
    "    - Edge detection\n",
    "- Image recognition\n",
    "- Combining image processing and time-series analysis (images recorded in time)\n"
   ]
  },
  {
   "cell_type": "markdown",
   "metadata": {},
   "source": [
    "## Fitting \n",
    "\n",
    "Like Image Processing and Time Series Analysis, data fitting provides a methodology to extract information from a data set and gain insight into the physics of the data. \n",
    "\n",
    "[SciPy](https://www.scipy.org/) includes functionality to fit a generic function to a set of data. This is done through [SciPy *curve_fit*](https://docs.scipy.org/doc/scipy/reference/generated/scipy.optimize.curve_fit.html). \n",
    "\n",
    "Simple functions of the form\n",
    "$$ y=f(x) $$\n",
    "can be fit to any dataset; however, *curve_fit* allows you to build on functions for added complexity such as \n",
    "$$ y=f(x) + g(x) + h(x)$$\n",
    "\n",
    "Fitting is used for data-model comparisons, estimation of model parameters such as rates of change and also for forecasting and regression (overlap between fitting and time series analysis). "
   ]
  },
  {
   "cell_type": "markdown",
   "metadata": {},
   "source": [
    "## Final Comments\n",
    "\n",
    "This is just the _tip of the iceberg_, for programming, scientific programming, Python, and Miniconda and Anaconda...\n",
    "- We didn't cover object oriented programming\n",
    "- We didn't cover numerical modeling, root finding, numerical derivative and integration\n",
    "- We only covered a few though key modules in Python and Anaconda.\n",
    "\n",
    "Programming, coding, and more specifically scientific programming, are undergoing constant devlopement and change. New languages and methodlogies are always being developed.\n",
    "\n",
    "When it comes to coding the **internet is your friend**. It's an excellent resource for help, debugging, and investigating new algorithm and methodlogies. \n"
   ]
  }
 ],
 "metadata": {
  "kernelspec": {
   "display_name": "Python 3",
   "language": "python",
   "name": "python3"
  },
  "language_info": {
   "codemirror_mode": {
    "name": "ipython",
    "version": 3
   },
   "file_extension": ".py",
   "mimetype": "text/x-python",
   "name": "python",
   "nbconvert_exporter": "python",
   "pygments_lexer": "ipython3",
   "version": "3.6.4"
  }
 },
 "nbformat": 4,
 "nbformat_minor": 2
}
