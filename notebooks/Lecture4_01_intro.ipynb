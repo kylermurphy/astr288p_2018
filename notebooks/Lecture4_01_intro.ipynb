{
 "cells": [
  {
   "cell_type": "markdown",
   "metadata": {},
   "source": [
    "# Python Intro\n",
    "\n",
    "##  1. Jupyter Notebooks\n",
    "\n",
    "What you are reading here is text in a cell within the current notebook. \n",
    "\n",
    "A notebook can be comprised of many cells. \n",
    "\n",
    "This is a text cell, markdown really (which we've been using for lectures). The text cell can display text, math, and include figures (among other things). \n",
    "\n",
    "Double click the cell and note that you can edit/modify the text within the cell. Pressing the **Run** key will format the cell.  \n",
    "Cells can also contain python code which you can execute in the browser. These cells are identified by the **In [ ]:** prompt.\n",
    "\n",
    "But before that, let's show off with some math, and inline functions $c^2 = a^2 + b^2$ or standalone expressions:\n",
    "\n",
    "$$\n",
    "{{G M(r)} \\over {r^2} } = { v^2 \\over r}\n",
    "$$\n",
    "\n",
    "\n",
    " "
   ]
  },
  {
   "cell_type": "markdown",
   "metadata": {},
   "source": [
    "# 1st leave heading:  Markdown formatting\n",
    "\n",
    "\n",
    "Making a bullet list\n",
    "\n",
    "* a list\n",
    "* uses stars\n",
    "* for bullets\n",
    "\n",
    "## 2nd level heading\n",
    "\n",
    "Or an enumerated list, but it looks weird in raw format. Double click on this cell!\n",
    "\n",
    "1. first\n",
    "1. second\n",
    "1. third\n",
    "1. reddit\n",
    "\n",
    "\n",
    "### 3rd level heading\n",
    "And [this link](http://www.astro.umd.edu/~krmurphy1/ASTR288/) is created with `[...](...)`, where you should note the use of the back-ticks.\n",
    "\n",
    "Figures can be added if they are in the same folder as the notebook.\n",
    "\n",
    "### Use resources for Markdown and LaTeX formual\n",
    "- [GitHub Markdown](https://guides.github.com/features/mastering-markdown/)\n",
    "- From Jupyter Notebook, [Markdown Cells](http://jupyter-notebook.readthedocs.io/en/stable/examples/Notebook/Working%20With%20Markdown%20Cells.html#) and [Examples](http://jupyter-notebook.readthedocs.io/en/stable/examples/Notebook/Typesetting%20Equations.html)\n",
    "- [LaTex/Mathematics](https://en.wikibooks.org/wiki/LaTeX/Mathematics)\n",
    "\n",
    "---\n"
   ]
  },
  {
   "cell_type": "markdown",
   "metadata": {},
   "source": [
    "## 2. Python Syntax and Variables"
   ]
  },
  {
   "cell_type": "code",
   "execution_count": 1,
   "metadata": {},
   "outputs": [
    {
     "name": "stdout",
     "output_type": "stream",
     "text": [
      "(1.0, 2, '344444str')\n",
      "(1.0, 2, 3.1)\n"
     ]
    }
   ],
   "source": [
    "# This is a comment within in a 'code cell'\n",
    "# Anything following the '#' is ignored by the interpreter. \n",
    "# Comments are included to make code more 'readable' \n",
    "#  and easier to follow, especially by someone who \n",
    "#  didn't write the code. \n",
    "\n",
    "# Python, as opposed to other languages, has dynamic types. \n",
    "# For instance, in C you need to declare variable types that \n",
    "#  in general cannot be mixed. \n",
    "#\n",
    "# int variable_1 = 1;\n",
    "# float variable_2 = 38.44; \n",
    "\n",
    "# In Python, we can do something simpler like: \n",
    "a = 1.  #This is a float\n",
    "b = 2   #This is an integer, note b=2L is a long integer\n",
    "c = \"344444str\" #This is a string\n",
    "\n",
    "print(a,b,c)\n",
    "\n",
    "# and then do this \n",
    "c = 3.1 \n",
    "print(a,b,c)\n",
    "\n",
    "# and then this\n",
    "c = \"string\"\n",
    "\n",
    "#in C this would cause an error!"
   ]
  },
  {
   "cell_type": "markdown",
   "metadata": {},
   "source": [
    "---\n",
    "\n",
    "In order to execute this python code, click on the cell to activate it, then using the **SHIFT-ENTER** key (the **RUN** button at the top of the browser will also excute the current cell). \n",
    "\n",
    "Note that as soon as the cell has executed, the **In[ ]** has obtained a sequence number. More on those later.\n",
    "\n",
    "---\n"
   ]
  },
  {
   "cell_type": "code",
   "execution_count": 2,
   "metadata": {},
   "outputs": [
    {
     "name": "stdout",
     "output_type": "stream",
     "text": [
      "('a=', 1.0, 'b=', 2, 'c=', 'string')\n"
     ]
    }
   ],
   "source": [
    "#  another way of output\n",
    "print(\"a=\",a,\"b=\",b,\"c=\",c)"
   ]
  },
  {
   "cell_type": "code",
   "execution_count": 3,
   "metadata": {},
   "outputs": [
    {
     "ename": "TypeError",
     "evalue": "%d format: a number is required, not str",
     "output_type": "error",
     "traceback": [
      "\u001b[0;31m---------------------------------------------------------------------------\u001b[0m",
      "\u001b[0;31mTypeError\u001b[0m                                 Traceback (most recent call last)",
      "\u001b[0;32m<ipython-input-3-dcecc5fcad15>\u001b[0m in \u001b[0;36m<module>\u001b[0;34m()\u001b[0m\n\u001b[1;32m      1\u001b[0m \u001b[1;31m# yet another way of output\u001b[0m\u001b[1;33m\u001b[0m\u001b[1;33m\u001b[0m\u001b[0m\n\u001b[0;32m----> 2\u001b[0;31m \u001b[1;32mprint\u001b[0m\u001b[1;33m(\u001b[0m\u001b[1;34m\"a=%s  b=%s  c=%d\"\u001b[0m \u001b[1;33m%\u001b[0m \u001b[1;33m(\u001b[0m\u001b[0ma\u001b[0m\u001b[1;33m,\u001b[0m\u001b[0mb\u001b[0m\u001b[1;33m,\u001b[0m\u001b[0mc\u001b[0m\u001b[1;33m)\u001b[0m\u001b[1;33m)\u001b[0m\u001b[1;33m\u001b[0m\u001b[0m\n\u001b[0m",
      "\u001b[0;31mTypeError\u001b[0m: %d format: a number is required, not str"
     ]
    }
   ],
   "source": [
    "# yet another way of output\n",
    "print(\"a=%s  b=%s  c=%d\" % (a,b,c))"
   ]
  },
  {
   "cell_type": "code",
   "execution_count": 4,
   "metadata": {},
   "outputs": [
    {
     "name": "stdout",
     "output_type": "stream",
     "text": [
      "a=1.0  b=2  c=string\n"
     ]
    }
   ],
   "source": [
    "# and yet another way of output\n",
    "print(\"a=%s  b=%s  c=%s\" % (str(a),str(b),str(c)))"
   ]
  },
  {
   "cell_type": "code",
   "execution_count": 5,
   "metadata": {},
   "outputs": [
    {
     "name": "stdout",
     "output_type": "stream",
     "text": [
      "9.3188 543 Twelve\n",
      "Flux=9.3188 Space=543 Friday=Twelve\n"
     ]
    }
   ],
   "source": [
    "a = 9.3188\n",
    "b = 543\n",
    "c = \"Twelve\"\n",
    "\n",
    "print(\"{0:g} {1:d} {2:s}\".format(a,b,c))\n",
    "#notice the difference:\n",
    "print(\"Flux={1:g} Space={0:d} Friday={2:s}\".format(b,a,c))"
   ]
  },
  {
   "cell_type": "code",
   "execution_count": 6,
   "metadata": {},
   "outputs": [
    {
     "name": "stdout",
     "output_type": "stream",
     "text": [
      "    9.32\n",
      "     543\n",
      "Twelve  \n",
      "\n",
      "------\n",
      "\n",
      "00009.32\n",
      "00000543\n",
      "Twelve  \n"
     ]
    }
   ],
   "source": [
    "# More on formatting:\n",
    "\n",
    "print(\"{0:8.3g}\".format(a))\n",
    "print(\"{0:8d}\".format(b))\n",
    "print(\"{0:8s}\".format(c))\n",
    "\n",
    "print(\"\\n------\\n\")\n",
    "print(\"{0:08.3g}\".format(a))\n",
    "print(\"{0:08d}\".format(b))\n",
    "print(\"{0:8s}\".format(c))"
   ]
  },
  {
   "cell_type": "markdown",
   "metadata": {},
   "source": [
    "\n",
    "---\n",
    "\n",
    "The above **print** statements used format codes to specify how the variables should be printed, as a string, float, integer, the lenth of the output, the number of decimal places after the decimal, and the order of which variables should be printed. \n",
    "\n",
    "More on [Python formating](https://pyformat.info/).\n",
    "\n",
    "---\n"
   ]
  },
  {
   "cell_type": "code",
   "execution_count": null,
   "metadata": {},
   "outputs": [],
   "source": [
    "# find out the types of variables\n",
    "print(type(a),type(b),type(c))"
   ]
  },
  {
   "cell_type": "markdown",
   "metadata": {},
   "source": [
    "---\n",
    "\n",
    "## 3. A little more on python data structures\n",
    "\n",
    "Next to dynamic typing, one of the powers of python are a number of built-in data structures (lists, dictionaries, tuples and sets) that together with their built-in methods make for a very flexible scripting language.  Here is a quick summary how you would initialize them in python:\n",
    "\n",
    "| data type |   assignment example  |   len(a)   |\n",
    "| --------- | --------------------- | ---------- |\n",
    "| list        | a = [1,2,3] |  3  |\n",
    "| tuple      | a = (1,2,3)|  3  |\n",
    "| dictionary  |   a = {'1':1 ,'2':2 , '3':3}|  3  |\n",
    "| set        |  a = {1,2,3,2,1}|  3 |"
   ]
  },
  {
   "cell_type": "markdown",
   "metadata": {},
   "source": [
    "### Python lists\n",
    "They are a sequenced data type; different elements are referenced by an index with the initial index starting at 0. \n",
    " \n",
    "Lists are similar to arrays in other languages; however different elements within a list can be a different data type, e.g., a mix of integers, floats or strings.\n",
    "\n",
    "---"
   ]
  },
  {
   "cell_type": "code",
   "execution_count": 7,
   "metadata": {},
   "outputs": [
    {
     "name": "stdout",
     "output_type": "stream",
     "text": [
      "('length of a:', 3)\n",
      "('length of a:', 0)\n",
      "[10, 15, 20, 25, 30, 35, 40, 45, 50, 55, 60, 65, 70, 75, 80, 85, 90, 95]\n"
     ]
    }
   ],
   "source": [
    "# we saw the assignment:\n",
    "a = [1,2,3]\n",
    "print(\"length of a:\",len(a))\n",
    "\n",
    "# a zero-length list is ok too\n",
    "a = []\n",
    "print(\"length of a:\", len(a))\n",
    "\n",
    "# but if you need a lot more, typing becomes tedious, python has a shortcut\n",
    "a = list(range(10,100,5))\n",
    "print(a)\n",
    "\n",
    "# notice something odd with the last number?"
   ]
  },
  {
   "cell_type": "code",
   "execution_count": 8,
   "metadata": {},
   "outputs": [
    {
     "name": "stdout",
     "output_type": "stream",
     "text": [
      "[25, 35]\n",
      "[10, 15, 20, 25, 30, 35, 40, 45, 50, 55, 60, 65, 70, 75, 80, 85, 90, 95]\n"
     ]
    }
   ],
   "source": [
    "# slicing and copying\n",
    "b=a[3:7:2]\n",
    "\n",
    "print(b)\n",
    "print(a)"
   ]
  },
  {
   "cell_type": "code",
   "execution_count": 9,
   "metadata": {},
   "outputs": [
    {
     "name": "stdout",
     "output_type": "stream",
     "text": [
      "[95, 90, 85, 80, 75, 70, 65, 60, 55, 50, 45, 40, 35, 30, 25, 20, 15, 10]\n"
     ]
    }
   ],
   "source": [
    "a.reverse()\n",
    "print(a)"
   ]
  },
  {
   "cell_type": "markdown",
   "metadata": {},
   "source": [
    "Two short notes on python lists:\n",
    "* Data types inside of a list don't have to be all the same.\n",
    "```\n",
    "    a = [1.0, 2, \"3\", [1.0, 2, \"3\"], range(10,20,2)]\n",
    "```\n",
    "\n",
    "\n",
    "* Each python object can have a number of member functions called **methods**. In a notebook you can find out about these:\n",
    "  * **google**, stackoverflow, e.g. the online manuals https://docs.python.org/2/tutorial/datastructures.html#more-on-lists\n",
    "\n",
    "  * the inline **```dir()```** method in python\n",
    "  ```\n",
    "  dir(a)\n",
    "  ```\n",
    "  not very informative, but it does remind you of the names\n",
    "  * python **introspection**\n",
    "  ```\n",
    "  import inspect\n",
    "  inspect.getmembers(a)\n",
    "  ```\n",
    "  * Use the ipython or notebook **TAB completion**:  For our object ```a``` typing ```a.<TAB>``` should show a list of possible completions, move your cursor to the desired one\n",
    "  \n",
    "  * Help will also provide a short description of an object/method, ```help(a.append)```"
   ]
  },
  {
   "cell_type": "code",
   "execution_count": 11,
   "metadata": {},
   "outputs": [
    {
     "name": "stdout",
     "output_type": "stream",
     "text": [
      "[95, 90, 85, 80, 75, 70, 65, 60, 55, 50, 45, 40, 35, 30, 25, 20, 15, 10, 'sean']\n",
      "[95, 90, 85, 80, 75, 70, 65, 60, 55, 50, 45, 40, 35, 30, 25, 20, 15, 10, 'sean', 'sean']\n",
      "Help on built-in function append:\n",
      "\n",
      "append(...)\n",
      "    L.append(object) -- append object to end\n",
      "\n"
     ]
    }
   ],
   "source": [
    "print(a)\n",
    "a.append(\"sean\")\n",
    "print(a)\n",
    "\n",
    "help(a.append)\n",
    "\n"
   ]
  },
  {
   "cell_type": "markdown",
   "metadata": {},
   "source": [
    "---\n",
    "\n",
    "### Referncing vs Assignment\n",
    "\n",
    "When an assignment is made from variable to another Python **does not** create a copy of that variable. Rather, Python stores a reference to the variable which is information about where the original varialb is stored.\n",
    "\n",
    "With scalar variables or immutable objects this typically does not do anything surprising. However, with mutable objects, such as lists, the outcome can be unexpected.\n",
    "\n",
    "\n"
   ]
  },
  {
   "cell_type": "code",
   "execution_count": 12,
   "metadata": {},
   "outputs": [
    {
     "name": "stdout",
     "output_type": "stream",
     "text": [
      "0\n",
      "2\n",
      "---\n",
      "a's unique identfier: 73688304\n",
      "b's unique identfier: 73688256\n"
     ]
    }
   ],
   "source": [
    "# A scalar variable or immutable object\n",
    "a = 0\n",
    "b = a\n",
    "b = 2\n",
    "\n",
    "print(a)\n",
    "print(b)\n",
    "\n",
    "print(\"---\")\n",
    "print(\"a's unique identfier: {0}\".format(id(a)))\n",
    "print(\"b's unique identfier: {0}\".format(id(b)))\n",
    "\n",
    "\n"
   ]
  },
  {
   "cell_type": "code",
   "execution_count": 13,
   "metadata": {},
   "outputs": [
    {
     "name": "stdout",
     "output_type": "stream",
     "text": [
      "simple assignment\n",
      "('a=', [1, 2, 3])\n",
      "('b=', 2)\n",
      "('a=', [0, 2, 3])\n",
      "('b=', [0, 2, 3])\n",
      "---\n",
      "('a=', [5, 2, 3])\n",
      "('b=', [5, 2, 3])\n",
      "---\n",
      "('a=', [5, 2, 0])\n",
      "('b=', [5, 2, 0])\n",
      "---\n",
      "a's unique identfier: 134541512\n",
      "b's unique identfier: 134541512\n"
     ]
    }
   ],
   "source": [
    "# A mutable object\n",
    "# Assignment\n",
    "\n",
    "a = [1,2,3]\n",
    "print(\"simple assignment\")\n",
    "print(\"a=\",a)\n",
    "print(\"b=\",b)\n",
    "\n",
    "b=a\n",
    "b[0] = 0\n",
    "print(\"a=\",a)\n",
    "print(\"b=\",b)\n",
    "print(\"---\")\n",
    "#change an element in 'a'\n",
    "a[0] = 5\n",
    "print(\"a=\",a)\n",
    "print(\"b=\",b)\n",
    "print(\"---\")\n",
    "#change an element in 'b'\n",
    "b[2] = 0\n",
    "print(\"a=\",a)\n",
    "print(\"b=\",b)\n",
    "\n",
    "print(\"---\")\n",
    "print(\"a's unique identfier: {0}\".format(id(a)))\n",
    "print(\"b's unique identfier: {0}\".format(id(b)))\n"
   ]
  },
  {
   "cell_type": "code",
   "execution_count": 14,
   "metadata": {},
   "outputs": [
    {
     "name": "stdout",
     "output_type": "stream",
     "text": [
      "assigning a slice\n",
      "('a=', [1, 2, 3])\n",
      "('b=', [1, 2, 3])\n",
      "---\n",
      "('a=', [1, 2, 3])\n",
      "('b=', [0, 2, 3])\n",
      "---\n",
      "a's unique identfier: 134409800\n",
      "b's unique identfier: 134409864\n"
     ]
    }
   ],
   "source": [
    "# A mutable object\n",
    "# Slicing\n",
    "\n",
    "a = [1,2,3]\n",
    "print(\"assigning a slice\")\n",
    "b=a[:]\n",
    "print(\"a=\",a)\n",
    "print(\"b=\",b)\n",
    "print(\"---\")\n",
    "b[0] = 0\n",
    "print(\"a=\",a)\n",
    "print(\"b=\",b)\n",
    "print(\"---\")\n",
    "print(\"a's unique identfier: {0}\".format(id(a)))\n",
    "print(\"b's unique identfier: {0}\".format(id(b)))\n",
    "\n",
    "\n",
    "# b = list(a) also works as it creates a copy of 'a' rather then a reference\n",
    "\n"
   ]
  },
  {
   "cell_type": "markdown",
   "metadata": {
    "collapsed": true
   },
   "source": [
    "---\n",
    "\n",
    "### Indexing\n",
    "\n",
    "Indexing allows us to access elements of a list or tuple. In Python indices always start at 0 and go to n-1, where n is the total number of elements or length of a list (```len(a)```).\n",
    "\n",
    "In Python you can also address the last elements in a list, array, etc. by using negative indexes:\n",
    "\n",
    "---"
   ]
  },
  {
   "cell_type": "code",
   "execution_count": 15,
   "metadata": {},
   "outputs": [
    {
     "name": "stdout",
     "output_type": "stream",
     "text": [
      "[10, 15, 20, 25, 30, 35, 40, 45, 50, 55, 60, 65, 70, 75, 80, 85, 90, 95, 100]\n",
      "Last entry in a: 100\n",
      "Second-last entry in the variable a: 95\n",
      "\n",
      "\n",
      "Last entry in a: g\n",
      "Second-last entry in a: n\n"
     ]
    }
   ],
   "source": [
    "a = list(range(10,102,5))\n",
    "print(a)\n",
    "\n",
    "print(\"Last entry in a: {0:d}\".format(a[-1]))\n",
    "print(\"Second-last entry in the variable a: {0:d}\".format(a[-2]))\n",
    "print(\"\\n\")\n",
    "\n",
    "#This works for strings, too:\n",
    "c = \"This is a long string\"\n",
    "\n",
    "print(\"Last entry in a: {0:s}\".format(c[-1]))\n",
    "print(\"Second-last entry in a: {0:s}\".format(c[-2]))"
   ]
  },
  {
   "cell_type": "code",
   "execution_count": 16,
   "metadata": {},
   "outputs": [
    {
     "name": "stdout",
     "output_type": "stream",
     "text": [
      "19\n"
     ]
    }
   ],
   "source": [
    "length = len(a)\n",
    "print(length)"
   ]
  },
  {
   "cell_type": "code",
   "execution_count": 17,
   "metadata": {},
   "outputs": [
    {
     "data": {
      "text/plain": [
       "100"
      ]
     },
     "execution_count": 17,
     "metadata": {},
     "output_type": "execute_result"
    }
   ],
   "source": [
    "a[length-1]"
   ]
  },
  {
   "cell_type": "code",
   "execution_count": 19,
   "metadata": {},
   "outputs": [
    {
     "name": "stdout",
     "output_type": "stream",
     "text": [
      " \n"
     ]
    }
   ],
   "source": [
    "print(c[-7])"
   ]
  },
  {
   "cell_type": "code",
   "execution_count": 18,
   "metadata": {},
   "outputs": [
    {
     "data": {
      "text/plain": [
       "70"
      ]
     },
     "execution_count": 18,
     "metadata": {},
     "output_type": "execute_result"
    }
   ],
   "source": [
    "a[-7]"
   ]
  },
  {
   "cell_type": "code",
   "execution_count": 20,
   "metadata": {},
   "outputs": [
    {
     "name": "stdout",
     "output_type": "stream",
     "text": [
      "This is a long string\n"
     ]
    }
   ],
   "source": [
    "print(c)"
   ]
  },
  {
   "cell_type": "markdown",
   "metadata": {},
   "source": [
    "---\n",
    "## 4. Operators\n",
    "\n",
    "Operators are what allow us to manipulate or perform an action/comparison between operands. In Python there are a number of operators but those most important to us are\n",
    "- Arithmitic Operators which perform basic math.\n",
    "- Comparison Operators which compare values\n",
    "- Assignment Operators which assign new values.\n",
    "\n",
    "Here is a description of all [Python Operators](https://www.tutorialspoint.com/python/python_basic_operators.htm)\n",
    "\n",
    "### Arithmitic\n",
    "\n",
    "| operator |   Description  |  \n",
    "| --------- | --------------------- |\n",
    "| ``` + ``` | Addition |\n",
    "| ``` - ``` | Subtraction|  \n",
    "| ``` * ``` | Multiplication| \n",
    "| ``` / ``` | Division |  \n",
    "| ``` % ``` | Modulus - Returns the remainder|\n",
    "|``` ** ``` | Exponent |\n",
    "|``` // ``` | Floor Division - Removes the decimal and returns the integer qoutient. If negative rounds away from zero |\n",
    "\n",
    "\n",
    "### Comparison\n",
    "\n",
    "| operator |   description  | \n",
    "| --------- | --------------------- |\n",
    "| ```==``` | Equal to  |\n",
    "| ```!=``` | Not equal to  |\n",
    "| ```<>``` | If the two operands are not equal then true  |\n",
    "| ```>```  | Greater than |\n",
    "| ```<```  | Less than |\n",
    "| ```>=``` | Greather than or equal to  |\n",
    "| ```<=``` | Less then or equal to  |\n",
    "\n",
    "### Assignment\n",
    "| operator |   description  | example |\n",
    "| --------- | --------------------- |---------|\n",
    "| ```=```   | Assigns value from right side to left side | ```c = a``` assigns a to c |\n",
    "| ```+=```  | Adds right opperand to left operrand and assigns to left opperand | ```c += a -> c = c+a``` |\n",
    "| ```-=```  | Subtracts right from left and assings to left | ```c -= a -> c = c-a``` |\n",
    "| ```*=```  | Multiplies right with left and assigns to left | ```c *= a -> c = c*a``` |\n",
    "| ```/=```  | Divides left by right and assigns to left | ```c /= a -> c = c/a``` |\n",
    "| ```%=```  | Takes modulus of left and right assigns to left | ```c %=a -> c = c%a```|\n",
    "| ```**=``` | Takes exponential and assigns to left | ```c **=a -> c = c**a```|\n",
    "| ```//=``` | Takes floor and assigns to left | ```c //=a -> c = c//a```|\n",
    "\n",
    "### A note of caution"
   ]
  },
  {
   "cell_type": "code",
   "execution_count": 21,
   "metadata": {},
   "outputs": [
    {
     "name": "stdout",
     "output_type": "stream",
     "text": [
      "0.25\n",
      "0\n",
      "1.33333333333\n"
     ]
    }
   ],
   "source": [
    "float_var = 4.\n",
    "int_var = 3\n",
    "\n",
    "print(1./float_var)\n",
    "print(1/int_var)\n",
    "print(float_var/int_var)"
   ]
  },
  {
   "cell_type": "code",
   "execution_count": null,
   "metadata": {
    "collapsed": true
   },
   "outputs": [],
   "source": []
  }
 ],
 "metadata": {
  "anaconda-cloud": {},
  "kernelspec": {
   "display_name": "Python 3",
   "language": "python",
   "name": "python3"
  },
  "language_info": {
   "codemirror_mode": {
    "name": "ipython",
    "version": 3
   },
   "file_extension": ".py",
   "mimetype": "text/x-python",
   "name": "python",
   "nbconvert_exporter": "python",
   "pygments_lexer": "ipython3",
   "version": "3.6.4"
  }
 },
 "nbformat": 4,
 "nbformat_minor": 1
}
