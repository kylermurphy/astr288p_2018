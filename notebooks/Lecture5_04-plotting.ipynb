{
 "cells": [
  {
   "cell_type": "markdown",
   "metadata": {},
   "source": [
    "# Plotting using matplotlib"
   ]
  },
  {
   "cell_type": "markdown",
   "metadata": {},
   "source": [
    "matplotlib is the de-facto standard of making plots in python. There are many online introductions to matplotlib, and here is just one:  https://realpython.com/blog/python/python-matplotlib-guide/\n",
    "\n",
    "\n",
    "In order to do inline plotting within a notebook, ipython needs a magic command, commands that start with the %\n",
    "\n",
    "These are one of the many \"ipython magic functions\", which have no counterpart in python. Recall the **%time** and **%timeit** commands.\n",
    "\n",
    "There is a precedent for this: the unix shell has some of these magic functions, except no % symbol. Examples are **time** and **strace** (on Mac:  **struss**)"
   ]
  },
  {
   "cell_type": "code",
   "execution_count": null,
   "metadata": {},
   "outputs": [],
   "source": [
    "# %matplotlib inline"
   ]
  },
  {
   "cell_type": "markdown",
   "metadata": {},
   "source": [
    "Importing some modules (libraries) and giving them short names such as **np** and **plt**. You will find that most users will use these common ones."
   ]
  },
  {
   "cell_type": "code",
   "execution_count": null,
   "metadata": {},
   "outputs": [],
   "source": [
    "import numpy as np\n",
    "import matplotlib.pyplot as plt"
   ]
  },
  {
   "cell_type": "markdown",
   "metadata": {},
   "source": [
    "It might be tempting to import a module in a blank namespace, to make for \"more readable code\" like the following example:\n",
    "```\n",
    "    from math import *\n",
    "    s2 = sqrt(2)\n",
    "```\n",
    "but the danger of this is that importing multiple modules in blank namespace can make some invisible, plus obfuscates the code where the function came from. So it is safer to stick to import where you get the module namespace (or a shorter alias):\n",
    "```\n",
    "    import math\n",
    "    s2 = math.sqrt(2)\n",
    "```\n"
   ]
  },
  {
   "cell_type": "markdown",
   "metadata": {},
   "source": [
    "## Line plot\n",
    "\n",
    "The array $x$ will contain numbers from 0 to 9.5 in steps of 0.5. We then compute two arrays $y$ and $z$ as follows:\n",
    "$$\n",
    "y = {1\\over{10}}{x^2} \n",
    "$$\n",
    "and\n",
    "$$\n",
    "z = 3\\sqrt{x}\n",
    "$$"
   ]
  },
  {
   "cell_type": "code",
   "execution_count": null,
   "metadata": {},
   "outputs": [],
   "source": [
    "x = 0.5*np.arange(20)\n",
    "y = x*x*0.1\n",
    "z = np.sqrt(x)*3"
   ]
  },
  {
   "cell_type": "code",
   "execution_count": null,
   "metadata": {},
   "outputs": [],
   "source": [
    "plt.plot(x,y,'o-',label='y')\n",
    "plt.plot(x,z,'*--',label='z')\n",
    "plt.title(\"$x^2$ and $\\sqrt{x}$\")\n",
    "#plt.legend(loc='best')\n",
    "plt.legend()\n",
    "plt.xlabel('X axis')\n",
    "plt.ylabel('Y axis')\n",
    "#plt.xscale('log')\n",
    "#plt.yscale('log')\n",
    "#plt.savefig('sample1.png')\n",
    "\n"
   ]
  },
  {
   "cell_type": "markdown",
   "metadata": {},
   "source": [
    "## Scatter plot"
   ]
  },
  {
   "cell_type": "code",
   "execution_count": null,
   "metadata": {},
   "outputs": [],
   "source": [
    "plt.scatter(x,y,s=40.0,c='r',label='y')\n",
    "plt.scatter(x,z,s=20.0,c='g',label='z')\n",
    "plt.legend(loc='best')\n",
    "plt.show()"
   ]
  },
  {
   "cell_type": "markdown",
   "metadata": {},
   "source": [
    "## Multi planel plots|\n"
   ]
  },
  {
   "cell_type": "code",
   "execution_count": null,
   "metadata": {},
   "outputs": [],
   "source": [
    "fig = plt.figure()\n",
    "fig1 = fig.add_subplot(121)                     #   (1,2,1) is also allowed\n",
    "fig1.scatter(x,z,s=20.0,c='g',label='z')\n",
    "fig2 = fig.add_subplot(122)\n",
    "fig2.scatter(x,y,s=40.0,c='r',label='y');"
   ]
  },
  {
   "cell_type": "markdown",
   "metadata": {},
   "source": [
    "## Histogram"
   ]
  },
  {
   "cell_type": "code",
   "execution_count": null,
   "metadata": {},
   "outputs": [],
   "source": [
    "n = 100000\n",
    "mean = 4.0\n",
    "disp = 2.0\n",
    "bins = 32\n",
    "g = np.random.normal(mean,disp,n)\n",
    "p = np.random.poisson(mean,n)"
   ]
  },
  {
   "cell_type": "code",
   "execution_count": null,
   "metadata": {},
   "outputs": [],
   "source": [
    "gh=plt.hist(g,bins)"
   ]
  },
  {
   "cell_type": "code",
   "execution_count": null,
   "metadata": {
    "scrolled": false
   },
   "outputs": [],
   "source": [
    "ph=plt.hist(p,bins)"
   ]
  },
  {
   "cell_type": "code",
   "execution_count": null,
   "metadata": {},
   "outputs": [],
   "source": [
    "plt.hist([g,p],bins)"
   ]
  },
  {
   "cell_type": "markdown",
   "metadata": {},
   "source": [
    "Notice that in this example the output from the plt.hist() command was not captured in a variable, but instead send to the output. You can see it contains the values and edges of the bins it computed. Of course this is also documented!\n",
    "http://matplotlib.org/api/pyplot_api.html#matplotlib.pyplot.hist\n"
   ]
  },
  {
   "cell_type": "markdown",
   "metadata": {},
   "source": [
    "Lots examples of plots and corresponding code on matplotlib's gallery:\n",
    "\n",
    "http://matplotlib.org/gallery.html"
   ]
  }
 ],
 "metadata": {
  "anaconda-cloud": {},
  "kernelspec": {
   "display_name": "Python 3",
   "language": "python",
   "name": "python3"
  },
  "language_info": {
   "codemirror_mode": {
    "name": "ipython",
    "version": 3
   },
   "file_extension": ".py",
   "mimetype": "text/x-python",
   "name": "python",
   "nbconvert_exporter": "python",
   "pygments_lexer": "ipython3",
   "version": "3.6.2"
  }
 },
 "nbformat": 4,
 "nbformat_minor": 1
}
