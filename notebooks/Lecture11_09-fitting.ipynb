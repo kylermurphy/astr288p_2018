{
 "cells": [
  {
   "cell_type": "markdown",
   "metadata": {},
   "source": [
    "# Lecture 11 Model Fitting\n",
    "\n",
    "\n",
    "One of the most common analysis techniques (methodologies) in scientific computing is fitting data. \n",
    "\n",
    "Fitting provides insight into the physics of data and is used to compare data to models and extract additional information from data such as rates of change (slopes).\n",
    "\n",
    "Numerical Recipes devotes a number of sections and chapters to this.\n",
    "\n",
    "Today we will look at:\n",
    "* Least squares fitting\n",
    "    * scipy linear regression\n",
    "    * scipy curve_fit\n",
    "\n",
    "However many other algorithms and python software packages exist for curve fitting: \n",
    "* numpy.polyfit, simple polynomial fitting\n",
    "* astropy.modeling, 1 and 2 dimensional fitting\n",
    "* lmfit, the Levenberg-Marquardt fitting algorithm\n"
   ]
  }
 ],
 "metadata": {
  "kernelspec": {
   "display_name": "Python 2",
   "language": "python",
   "name": "python2"
  },
  "language_info": {
   "codemirror_mode": {
    "name": "ipython",
    "version": 2
   },
   "file_extension": ".py",
   "mimetype": "text/x-python",
   "name": "python",
   "nbconvert_exporter": "python",
   "pygments_lexer": "ipython2",
   "version": "2.7.14"
  }
 },
 "nbformat": 4,
 "nbformat_minor": 2
}
