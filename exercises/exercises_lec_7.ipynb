{
 "cells": [
  {
   "cell_type": "markdown",
   "metadata": {},
   "source": [
    "# Matplotlib and Images Exercises\n",
    "\n",
    "The Matplotlib gallery is an excellent source for examples plots and tutorials, http://matplotlib.org/gallery.html. \n",
    "\n",
    "## Exercise 1\n",
    "\n",
    "Read in the data from the winter olympics medal count found in _OlympicMedalCount.txt_ and create the following figures:\n",
    "1. A scatter plot of the gold medals for each country. The y-axis should be the total number of gold medals for each country and the x-axis should be the country. The x-axis should also be labeled with the country name. \n",
    "1. The same as above but a three column plot, showing the gold, silver, and bronze medal count for each country.\n",
    "1. A single plot with 4 histograms showing the number of gold, silver, bronze and total medal count for each country. The histograms should be different colors and a legend should be used to identify each histogram. \n",
    "\n",
    "## Exercise 2\n",
    "\n",
    "Read in the file _data/PKR_DASC_0558_20151220_044655.730.FITS_. Smooth the array column wise using a 3 point centered smoothing such that:\n",
    "\n",
    "$$ B_{ij} = (A_{i,j-1} + A_{i,j} + A_{i,j+1})/3 $$\n",
    "\n",
    "Perform the same task row wise. How will you handle the end points? \n",
    "\n",
    "Plot both the origianl and column smoothed and row smoothed images in a 3 row plot.\n",
    "\n",
    "Write a generic function which will smooth an image by an aribtrary number of points $n$ by either column or row. Be sure to smooth to the end of the array noting that you will get an error if $A_{i,j+n}$ exceeds the number columns in $A$ or $A_{i,j-n}$ is smaller then the number columns in j (or negative). The same goes for rows and $A_{i+n,j}$ or $A_{i+n,j}$.  \n",
    "\n",
    "\n"
   ]
  },
  {
   "cell_type": "code",
   "execution_count": null,
   "metadata": {
    "collapsed": true
   },
   "outputs": [],
   "source": []
  }
 ],
 "metadata": {
  "kernelspec": {
   "display_name": "Python 2",
   "language": "python",
   "name": "python2"
  },
  "language_info": {
   "codemirror_mode": {
    "name": "ipython",
    "version": 2
   },
   "file_extension": ".py",
   "mimetype": "text/x-python",
   "name": "python",
   "nbconvert_exporter": "python",
   "pygments_lexer": "ipython2",
   "version": "2.7.13"
  }
 },
 "nbformat": 4,
 "nbformat_minor": 2
}
