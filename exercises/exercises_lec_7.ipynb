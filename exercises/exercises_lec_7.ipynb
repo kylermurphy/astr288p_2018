{
 "cells": [
  {
   "cell_type": "markdown",
   "metadata": {},
   "source": [
    "# Matplotlib and Images Exercises\n",
    "\n",
    "The Matplotlib gallery is an excellent source for examples plots and tutorials, http://matplotlib.org/gallery.html. \n",
    "\n",
    "## Exercise 1\n",
    "\n",
    "Read in the data from the winter olympics medal count found in _OlympicMedalCount.txt_ and create the following figures:\n",
    "1. A scatter plot of the gold medals for each country. The y-axis should be the total number of gold medals for each country and the x-axis should be the country. The x-axis should also be labeled with the country name. \n",
    "1. The same as above but a three column plot, showing the gold, silver, and bronze medal count for each country.\n",
    "1. A single plot with 4 histograms showing the number of gold, silver, bronze and total medal count for each country. The histograms should be different colors and a legend should be used to identify each histogram. \n",
    "\n",
    "## Exercise 2\n",
    "\n",
    "Read in the file *data/PKR_DASC_0558_20151220_044655.730.FITS*. Create a mask for the image loaded such that all data below 3000 counts and above 8000 counts is ignored. Plot the image. \n",
    "\n",
    "## Exercise 3\n",
    "\n",
    "Create a mask or slice which only plots the auroral arc in the image from Exercise 2. \n",
    "\n",
    "## Exercise 4\n",
    "\n",
    "Plot the image loaded above such that North is down.\n",
    "\n",
    "## Exercise 5\n",
    "\n",
    "Smooth the image loaded above column wise using a 3 point centered smoothing such that:\n",
    "\n",
    "$$ B_{ij} = (A_{i,j-1} + A_{i,j} + A_{i,j+1})/3 $$\n",
    "\n",
    "Perform the same task row wise. How will you handle the end points? \n",
    "\n",
    "Plot both the origianl and column smoothed and row smoothed images in a 3 row plot.\n",
    "\n",
    "Write a generic function which will return an image smoothed by an aribtrary number of points $n$ by either column or row. Be sure to smooth to the end of the array noting that you will get an error if $A_{i,j+n}$ exceeds the number columns in $A$ or $A_{i,j-n}$ is smaller then the number columns in j (or negative). The same goes for rows and $A_{i+n,j}$ or $A_{i+n,j}$. How will you handle if positive numbers are passed to the fucntion?\n"
   ]
  },
  {
   "cell_type": "code",
   "execution_count": null,
   "metadata": {
    "collapsed": true
   },
   "outputs": [],
   "source": []
  }
 ],
 "metadata": {
  "kernelspec": {
   "display_name": "Python 3",
   "language": "python",
   "name": "python3"
  },
  "language_info": {
   "codemirror_mode": {
    "name": "ipython",
    "version": 3
   },
   "file_extension": ".py",
   "mimetype": "text/x-python",
   "name": "python",
   "nbconvert_exporter": "python",
   "pygments_lexer": "ipython3",
   "version": "3.6.4"
  }
 },
 "nbformat": 4,
 "nbformat_minor": 2
}
