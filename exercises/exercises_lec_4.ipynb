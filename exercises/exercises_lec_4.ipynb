{
 "cells": [
  {
   "cell_type": "markdown",
   "metadata": {},
   "source": [
    "# Debugging\n",
    "\n",
    "The process of identifying and removing errors. Practice and knowledge of the programming language makes debugging easier. Languages such as Python also provide tools and features which make debugging easier; these include, exception handling, type checking, and in some cases (Spyder) integrated debugging. \n",
    "\n",
    "For smaller programming projects errors are often the result of incorrect syntax when calling a function or method, when writing a line of code, such as a loop, or when incorrectly trying to handle an object, such as a list. \n",
    "\n",
    "Below are a few examples of common coding errors. Can you identify the errors from the exception raised and fix the code? \n"
   ]
  },
  {
   "cell_type": "code",
   "execution_count": 3,
   "metadata": {
    "collapsed": false
   },
   "outputs": [
    {
     "name": "stdout",
     "output_type": "stream",
     "text": [
      "The value of i is 10\n"
     ]
    }
   ],
   "source": [
    "# Excercise 1\n",
    "# if statements\n",
    "\n",
    "i = 10\n",
    "if i eq 10:\n",
    "    print('The value of i is 10')\n",
    "elif i gt 10:\n",
    "    print('i is larger than 10')\n",
    "else:\n",
    "    print('i is less than 10')"
   ]
  },
  {
   "cell_type": "code",
   "execution_count": null,
   "metadata": {
    "collapsed": true
   },
   "outputs": [],
   "source": [
    "# What does the debugged statement above look like?\n"
   ]
  },
  {
   "cell_type": "code",
   "execution_count": 5,
   "metadata": {
    "collapsed": false
   },
   "outputs": [
    {
     "ename": "ValueError",
     "evalue": "Unknown format code 'd' for object of type 'str'",
     "output_type": "error",
     "traceback": [
      "\u001b[0;31m---------------------------------------------------------------------------\u001b[0m",
      "\u001b[0;31mValueError\u001b[0m                                Traceback (most recent call last)",
      "\u001b[0;32m<ipython-input-5-a5f71d83337c>\u001b[0m in \u001b[0;36m<module>\u001b[0;34m()\u001b[0m\n\u001b[1;32m      6\u001b[0m \u001b[0mc\u001b[0m \u001b[1;33m=\u001b[0m \u001b[1;34m\"Twelve\"\u001b[0m\u001b[1;33m\u001b[0m\u001b[0m\n\u001b[1;32m      7\u001b[0m \u001b[1;33m\u001b[0m\u001b[0m\n\u001b[0;32m----> 8\u001b[0;31m \u001b[1;32mprint\u001b[0m\u001b[1;33m(\u001b[0m\u001b[1;34m\"Flux={1:g} Space={0:d} Friday={2:d}\"\u001b[0m\u001b[1;33m.\u001b[0m\u001b[0mformat\u001b[0m\u001b[1;33m(\u001b[0m\u001b[0mb\u001b[0m\u001b[1;33m,\u001b[0m\u001b[0ma\u001b[0m\u001b[1;33m,\u001b[0m\u001b[0mc\u001b[0m\u001b[1;33m)\u001b[0m\u001b[1;33m)\u001b[0m\u001b[1;33m\u001b[0m\u001b[0m\n\u001b[0m",
      "\u001b[0;31mValueError\u001b[0m: Unknown format code 'd' for object of type 'str'"
     ]
    }
   ],
   "source": [
    "# Exercise 2\n",
    "# Printing\n",
    "\n",
    "a = 9.3188\n",
    "b = 543\n",
    "c = \"Twelve\"\n",
    "\n",
    "print(\"Flux={1:g} Space={0:d} Friday={2:d}\"format(b,a,c))\n"
   ]
  },
  {
   "cell_type": "code",
   "execution_count": null,
   "metadata": {
    "collapsed": true
   },
   "outputs": [],
   "source": [
    "# What does the debugged statement above look like?\n"
   ]
  },
  {
   "cell_type": "code",
   "execution_count": 9,
   "metadata": {
    "collapsed": false
   },
   "outputs": [
    {
     "name": "stdout",
     "output_type": "stream",
     "text": [
      "[0, 15, 20, 25, 30, 35, 40, 45, 50, 55, 60, 65, 70, 75, 80, 85, 90, 0]\n",
      "[0, 15, 20, 25, 30, 35, 40, 45, 50, 55, 60, 65, 70, 75, 80, 85, 90, 0]\n"
     ]
    }
   ],
   "source": [
    "# Exercise 3\n",
    "# create a copy of b and \n",
    "# change the first and last \n",
    "# ellements of b to 0 without\n",
    "# modifying a\n",
    "\n",
    "a = range(10,100,5)\n",
    "\n",
    "b = a\n",
    "b[0]  = 0\n",
    "b[-1] = 0\n",
    "\n",
    "print(a)\n",
    "print(b)"
   ]
  },
  {
   "cell_type": "code",
   "execution_count": null,
   "metadata": {
    "collapsed": true
   },
   "outputs": [],
   "source": [
    "# What does the debugged code above look like?"
   ]
  },
  {
   "cell_type": "code",
   "execution_count": 15,
   "metadata": {
    "collapsed": false
   },
   "outputs": [
    {
     "ename": "TypeError",
     "evalue": "a float is required",
     "output_type": "error",
     "traceback": [
      "\u001b[0;31m---------------------------------------------------------------------------\u001b[0m",
      "\u001b[0;31mTypeError\u001b[0m                                 Traceback (most recent call last)",
      "\u001b[0;32m<ipython-input-15-1e23f6064e29>\u001b[0m in \u001b[0;36m<module>\u001b[0;34m()\u001b[0m\n\u001b[1;32m      3\u001b[0m \u001b[1;33m\u001b[0m\u001b[0m\n\u001b[1;32m      4\u001b[0m \u001b[0ma\u001b[0m \u001b[1;33m=\u001b[0m \u001b[1;34m'1/4'\u001b[0m\u001b[1;33m\u001b[0m\u001b[0m\n\u001b[0;32m----> 5\u001b[0;31m \u001b[0mb\u001b[0m \u001b[1;33m=\u001b[0m \u001b[0mmath\u001b[0m\u001b[1;33m.\u001b[0m\u001b[0msin\u001b[0m\u001b[1;33m(\u001b[0m\u001b[0ma\u001b[0m\u001b[1;33m)\u001b[0m\u001b[1;33m\u001b[0m\u001b[0m\n\u001b[0m\u001b[1;32m      6\u001b[0m \u001b[1;33m\u001b[0m\u001b[0m\n\u001b[1;32m      7\u001b[0m \u001b[1;32mprint\u001b[0m\u001b[1;33m(\u001b[0m\u001b[0mb\u001b[0m\u001b[1;33m)\u001b[0m\u001b[1;33m\u001b[0m\u001b[0m\n",
      "\u001b[0;31mTypeError\u001b[0m: a float is required"
     ]
    }
   ],
   "source": [
    "# Exercise 4\n",
    "import math\n",
    "\n",
    "a = '1/4'\n",
    "b = math.sin(a)\n",
    "\n",
    "print(b)"
   ]
  },
  {
   "cell_type": "code",
   "execution_count": null,
   "metadata": {
    "collapsed": true
   },
   "outputs": [],
   "source": [
    "# What does the debugged code above look like?"
   ]
  },
  {
   "cell_type": "markdown",
   "metadata": {},
   "source": [
    "---\n",
    "\n",
    "# Control Flow\n",
    "\n",
    "## Exercise 1\n",
    "Write a program that will output a string in reverse order.\n",
    "\n",
    "## Exercise 2\n",
    "Write a program which will count the number of even and odd numbers in a series. What is the ouput for the list of numbers below? \n",
    "\n",
    "```python\n",
    " a = [1,2,3,4,5,6,7,8,9,10]\n",
    "```\n",
    "\n",
    "## Exercise 3\n",
    "Write a program using a ```while``` or ```for``` loop that can compute the factorial of a given number. What is the value of 8! ? Can you change this code into a function ```myfact```?\n",
    "\n",
    "## Exercise 4\n",
    "The Fibonacci sequence is generated by adding the previous two terms in the sequence. Write a peice of code that will output the Fibonacci Sequence for a varible number of terms N. Can you modify this code into a function ```myfib```?\n",
    "\n",
    "$$ x_{n+2} = x_{n+1} + x_{n} $$\n",
    "\n",
    "\n",
    "## Exercise 5\n",
    "Write a function that converts temperatures from degrees celsius to fahrenheit. Can you modify the function so that it can convert between fahrenheit and celsius and vice versa with an option which specifies which conversion should take place?\n",
    "\n",
    "$$ c/4 = f - 32/9 $$\n",
    "\n",
    "\n",
    "\n"
   ]
  }
 ],
 "metadata": {
  "kernelspec": {
   "display_name": "Python 2",
   "language": "python",
   "name": "python2"
  },
  "language_info": {
   "codemirror_mode": {
    "name": "ipython",
    "version": 2
   },
   "file_extension": ".py",
   "mimetype": "text/x-python",
   "name": "python",
   "nbconvert_exporter": "python",
   "pygments_lexer": "ipython2",
   "version": "2.7.13"
  }
 },
 "nbformat": 4,
 "nbformat_minor": 2
}
