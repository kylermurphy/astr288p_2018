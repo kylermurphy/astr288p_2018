{
 "cells": [
  {
   "cell_type": "markdown",
   "metadata": {},
   "source": [
    "# Debugging\n",
    "\n",
    "The process of identifying and removing errors. Practice and knowledge of the programming language makes debugging easier. Languages such as Python also provide tools and features which make debugging easier; these include, exception handling, type checking, and in some cases (Spyder) integrated debugging. \n",
    "\n",
    "For smaller programming projects errors are often the result of incorrect syntax when calling a function or method, when writing a line of code, such as a loop, or when incorrectly trying to handle an object, such as a list. \n",
    "\n",
    "Below are a few examples of common coding errors. Can you identify the errors from the exception raised and fix the code? \n"
   ]
  },
  {
   "cell_type": "code",
   "execution_count": 2,
   "metadata": {},
   "outputs": [
    {
     "ename": "SyntaxError",
     "evalue": "invalid syntax (<ipython-input-2-11450aab8553>, line 5)",
     "output_type": "error",
     "traceback": [
      "\u001b[0;36m  File \u001b[0;32m\"<ipython-input-2-11450aab8553>\"\u001b[0;36m, line \u001b[0;32m5\u001b[0m\n\u001b[0;31m    if i eq 10:\u001b[0m\n\u001b[0m          ^\u001b[0m\n\u001b[0;31mSyntaxError\u001b[0m\u001b[0;31m:\u001b[0m invalid syntax\n"
     ]
    }
   ],
   "source": [
    "# Excercise 1\n",
    "# if statements\n",
    "\n",
    "i = 10\n",
    "if i eq 10:\n",
    "    print('The value of i is 10')\n",
    "elif i gt 10:\n",
    "    print('i is larger than 10')\n",
    "else:\n",
    "    print('i is less than 10')"
   ]
  },
  {
   "cell_type": "code",
   "execution_count": 3,
   "metadata": {},
   "outputs": [
    {
     "name": "stdout",
     "output_type": "stream",
     "text": [
      "The value of i is 10\n"
     ]
    }
   ],
   "source": [
    "# What does the debugged statement above look like?\n",
    "i = 10\n",
    "if i == 10:\n",
    "    print('The value of i is 10')\n",
    "elif i > 10:\n",
    "    print('i is larger than 10')\n",
    "else:\n",
    "    print('i is less than 10')"
   ]
  },
  {
   "cell_type": "code",
   "execution_count": 5,
   "metadata": {},
   "outputs": [
    {
     "ename": "ValueError",
     "evalue": "Unknown format code 'd' for object of type 'str'",
     "output_type": "error",
     "traceback": [
      "\u001b[0;31m---------------------------------------------------------------------------\u001b[0m",
      "\u001b[0;31mValueError\u001b[0m                                Traceback (most recent call last)",
      "\u001b[0;32m<ipython-input-5-a5f71d83337c>\u001b[0m in \u001b[0;36m<module>\u001b[0;34m()\u001b[0m\n\u001b[1;32m      6\u001b[0m \u001b[0mc\u001b[0m \u001b[1;33m=\u001b[0m \u001b[1;34m\"Twelve\"\u001b[0m\u001b[1;33m\u001b[0m\u001b[0m\n\u001b[1;32m      7\u001b[0m \u001b[1;33m\u001b[0m\u001b[0m\n\u001b[0;32m----> 8\u001b[0;31m \u001b[1;32mprint\u001b[0m\u001b[1;33m(\u001b[0m\u001b[1;34m\"Flux={1:g} Space={0:d} Friday={2:d}\"\u001b[0m\u001b[1;33m.\u001b[0m\u001b[0mformat\u001b[0m\u001b[1;33m(\u001b[0m\u001b[0mb\u001b[0m\u001b[1;33m,\u001b[0m\u001b[0ma\u001b[0m\u001b[1;33m,\u001b[0m\u001b[0mc\u001b[0m\u001b[1;33m)\u001b[0m\u001b[1;33m)\u001b[0m\u001b[1;33m\u001b[0m\u001b[0m\n\u001b[0m",
      "\u001b[0;31mValueError\u001b[0m: Unknown format code 'd' for object of type 'str'"
     ]
    }
   ],
   "source": [
    "# Exercise 2\n",
    "# Printing\n",
    "\n",
    "a = 9.3188\n",
    "b = 543\n",
    "c = \"Twelve\"\n",
    "\n",
    "print(\"Flux={1:g} Space={0:d} Friday={2:d}\"format(b,a,c))\n"
   ]
  },
  {
   "cell_type": "code",
   "execution_count": 5,
   "metadata": {},
   "outputs": [
    {
     "name": "stdout",
     "output_type": "stream",
     "text": [
      "Flux=9.3188 Space=543 Friday=Twelve\n"
     ]
    }
   ],
   "source": [
    "# What does the debugged statement above look like?\n",
    "a = 9.3188\n",
    "b = 543\n",
    "c = \"Twelve\"\n",
    "\n",
    "print(\"Flux={1:g} Space={0:d} Friday={2:s}\".format(b,a,c))"
   ]
  },
  {
   "cell_type": "code",
   "execution_count": 6,
   "metadata": {},
   "outputs": [
    {
     "name": "stdout",
     "output_type": "stream",
     "text": [
      "[0, 15, 20, 25, 30, 35, 40, 45, 50, 55, 60, 65, 70, 75, 80, 85, 90, 0]\n",
      "[0, 15, 20, 25, 30, 35, 40, 45, 50, 55, 60, 65, 70, 75, 80, 85, 90, 0]\n"
     ]
    }
   ],
   "source": [
    "# Exercise 3\n",
    "# create a copy of b and \n",
    "# change the first and last \n",
    "# ellements of b to 0 without\n",
    "# modifying a\n",
    "\n",
    "a = range(10,100,5)\n",
    "\n",
    "b = a\n",
    "b[0]  = 0\n",
    "b[-1] = 0\n",
    "\n",
    "print(a)\n",
    "print(b)"
   ]
  },
  {
   "cell_type": "code",
   "execution_count": 7,
   "metadata": {},
   "outputs": [
    {
     "name": "stdout",
     "output_type": "stream",
     "text": [
      "[10, 15, 20, 25, 30, 35, 40, 45, 50, 55, 60, 65, 70, 75, 80, 85, 90, 95]\n",
      "[0, 15, 20, 25, 30, 35, 40, 45, 50, 55, 60, 65, 70, 75, 80, 85, 90, 0]\n"
     ]
    }
   ],
   "source": [
    "# What does the debugged code above look like?\n",
    "\n",
    "a = range(10,100,5)\n",
    "\n",
    "b = list(a)\n",
    "b[0]  = 0\n",
    "b[-1] = 0\n",
    "\n",
    "print(a)\n",
    "print(b)"
   ]
  },
  {
   "cell_type": "code",
   "execution_count": 8,
   "metadata": {},
   "outputs": [
    {
     "ename": "TypeError",
     "evalue": "a float is required",
     "output_type": "error",
     "traceback": [
      "\u001b[0;31m---------------------------------------------------------------------------\u001b[0m",
      "\u001b[0;31mTypeError\u001b[0m                                 Traceback (most recent call last)",
      "\u001b[0;32m<ipython-input-8-1e23f6064e29>\u001b[0m in \u001b[0;36m<module>\u001b[0;34m()\u001b[0m\n\u001b[1;32m      3\u001b[0m \u001b[1;33m\u001b[0m\u001b[0m\n\u001b[1;32m      4\u001b[0m \u001b[0ma\u001b[0m \u001b[1;33m=\u001b[0m \u001b[1;34m'1/4'\u001b[0m\u001b[1;33m\u001b[0m\u001b[0m\n\u001b[0;32m----> 5\u001b[0;31m \u001b[0mb\u001b[0m \u001b[1;33m=\u001b[0m \u001b[0mmath\u001b[0m\u001b[1;33m.\u001b[0m\u001b[0msin\u001b[0m\u001b[1;33m(\u001b[0m\u001b[0ma\u001b[0m\u001b[1;33m)\u001b[0m\u001b[1;33m\u001b[0m\u001b[0m\n\u001b[0m\u001b[1;32m      6\u001b[0m \u001b[1;33m\u001b[0m\u001b[0m\n\u001b[1;32m      7\u001b[0m \u001b[1;32mprint\u001b[0m\u001b[1;33m(\u001b[0m\u001b[0mb\u001b[0m\u001b[1;33m)\u001b[0m\u001b[1;33m\u001b[0m\u001b[0m\n",
      "\u001b[0;31mTypeError\u001b[0m: a float is required"
     ]
    }
   ],
   "source": [
    "# Exercise 4\n",
    "import math\n",
    "\n",
    "a = '1/4'\n",
    "b = math.sin(a)\n",
    "\n",
    "print(b)"
   ]
  },
  {
   "cell_type": "code",
   "execution_count": 9,
   "metadata": {},
   "outputs": [
    {
     "name": "stdout",
     "output_type": "stream",
     "text": [
      "0.247403959255\n"
     ]
    }
   ],
   "source": [
    "# What does the debugged code above look like?\n",
    "import math\n",
    "\n",
    "a = 1./4\n",
    "b = math.sin(a)\n",
    "\n",
    "print(b)"
   ]
  },
  {
   "cell_type": "markdown",
   "metadata": {},
   "source": [
    "# Some more debugging"
   ]
  },
  {
   "cell_type": "code",
   "execution_count": 10,
   "metadata": {},
   "outputs": [
    {
     "name": "stdout",
     "output_type": "stream",
     "text": [
      "The value of i is 10\n",
      "i is less than 10\n"
     ]
    }
   ],
   "source": [
    "# what is wrong with the if statement below?\n",
    "\n",
    "j = 22\n",
    "\n",
    "if j >= 10:\n",
    "    print('The value of i is 10')\n",
    "if j < 10:\n",
    "    print('i is larger than 10')\n",
    "else:\n",
    "    print('i is less than 10')\n",
    "\n"
   ]
  },
  {
   "cell_type": "code",
   "execution_count": 11,
   "metadata": {},
   "outputs": [
    {
     "ename": "KeyboardInterrupt",
     "evalue": "",
     "output_type": "error",
     "traceback": [
      "\u001b[0;31m---------------------------------------------------------------------------\u001b[0m",
      "\u001b[0;31mKeyboardInterrupt\u001b[0m                         Traceback (most recent call last)",
      "\u001b[0;32m<ipython-input-11-681b5883f1a6>\u001b[0m in \u001b[0;36m<module>\u001b[0;34m()\u001b[0m\n\u001b[1;32m      2\u001b[0m \u001b[0mtotal\u001b[0m \u001b[1;33m=\u001b[0m \u001b[1;36m0\u001b[0m\u001b[1;33m\u001b[0m\u001b[0m\n\u001b[1;32m      3\u001b[0m \u001b[1;32mwhile\u001b[0m \u001b[0mi\u001b[0m \u001b[1;33m<\u001b[0m \u001b[1;36m1000\u001b[0m\u001b[1;33m:\u001b[0m\u001b[1;33m\u001b[0m\u001b[0m\n\u001b[0;32m----> 4\u001b[0;31m     \u001b[0mtotal\u001b[0m \u001b[1;33m+=\u001b[0m\u001b[0mtotal\u001b[0m\u001b[1;33m+\u001b[0m\u001b[1;36m1\u001b[0m\u001b[1;33m\u001b[0m\u001b[0m\n\u001b[0m\u001b[1;32m      5\u001b[0m \u001b[1;32melse\u001b[0m\u001b[1;33m:\u001b[0m\u001b[1;33m\u001b[0m\u001b[0m\n\u001b[1;32m      6\u001b[0m     \u001b[1;32mprint\u001b[0m\u001b[1;33m(\u001b[0m\u001b[1;34m\"Loop finished\"\u001b[0m\u001b[1;33m)\u001b[0m\u001b[1;33m\u001b[0m\u001b[0m\n",
      "\u001b[0;31mKeyboardInterrupt\u001b[0m: "
     ]
    }
   ],
   "source": [
    "# what is wrong with the while loop below?\n",
    "\n",
    "i=0\n",
    "total = 0\n",
    "while i < 1000:\n",
    "    total +=total+1\n",
    "else:\n",
    "    print(\"Loop finished\")\n"
   ]
  },
  {
   "cell_type": "code",
   "execution_count": 12,
   "metadata": {},
   "outputs": [
    {
     "ename": "NameError",
     "evalue": "name 'np' is not defined",
     "output_type": "error",
     "traceback": [
      "\u001b[0;31m---------------------------------------------------------------------------\u001b[0m",
      "\u001b[0;31mNameError\u001b[0m                                 Traceback (most recent call last)",
      "\u001b[0;32m<ipython-input-12-96a84245ea0e>\u001b[0m in \u001b[0;36m<module>\u001b[0;34m()\u001b[0m\n\u001b[0;32m----> 1\u001b[0;31m \u001b[0mZ\u001b[0m \u001b[1;33m=\u001b[0m \u001b[0mnp\u001b[0m\u001b[1;33m.\u001b[0m\u001b[0marange\u001b[0m\u001b[1;33m(\u001b[0m\u001b[1;36m50\u001b[0m\u001b[1;33m)\u001b[0m\u001b[1;33m\u001b[0m\u001b[0m\n\u001b[0m\u001b[1;32m      2\u001b[0m \u001b[0mZ\u001b[0m \u001b[1;33m=\u001b[0m \u001b[0mZ\u001b[0m\u001b[1;33m[\u001b[0m\u001b[1;33m:\u001b[0m\u001b[1;33m:\u001b[0m\u001b[1;33m-\u001b[0m\u001b[1;36m1\u001b[0m\u001b[1;33m]\u001b[0m\u001b[1;33m\u001b[0m\u001b[0m\n\u001b[1;32m      3\u001b[0m \u001b[1;32mprint\u001b[0m\u001b[1;33m(\u001b[0m\u001b[0mZ\u001b[0m\u001b[1;33m)\u001b[0m\u001b[1;33m\u001b[0m\u001b[0m\n\u001b[1;32m      4\u001b[0m \u001b[1;33m\u001b[0m\u001b[0m\n\u001b[1;32m      5\u001b[0m \u001b[0mget_ipython\u001b[0m\u001b[1;33m(\u001b[0m\u001b[1;33m)\u001b[0m\u001b[1;33m.\u001b[0m\u001b[0mmagic\u001b[0m\u001b[1;33m(\u001b[0m\u001b[1;34mu'pinfo Z'\u001b[0m\u001b[1;33m)\u001b[0m\u001b[1;33m\u001b[0m\u001b[0m\n",
      "\u001b[0;31mNameError\u001b[0m: name 'np' is not defined"
     ]
    }
   ],
   "source": [
    "#what is wrong with the code below?\n",
    "\n",
    "Z = np.arange(50)\n"
   ]
  },
  {
   "cell_type": "code",
   "execution_count": 16,
   "metadata": {},
   "outputs": [],
   "source": [
    "#how can I reverse the array below? \n",
    "import numpy as np\n",
    "\n",
    "\n",
    "Z = np.arange(50)\n",
    "Z.reverse()\n",
    "\n"
   ]
  },
  {
   "cell_type": "markdown",
   "metadata": {},
   "source": [
    "---\n",
    "\n",
    "# Control Flow\n",
    "\n",
    "## Exercise 1\n",
    "Write a program that will output a string in reverse order.\n",
    "\n",
    "## Exercise 2\n",
    "Write a program which will count the number of even and odd numbers in a series. What is the ouput for the list of numbers below? \n",
    "\n",
    "```python\n",
    " a = [1,2,3,4,5,6,7,8,9,10]\n",
    "```\n",
    "\n",
    "## Exercise 3\n",
    "Write a program using a ```while``` or ```for``` loop that can compute the factorial of a given number. What is the value of 8! ? Can you change this code into a function ```myfact```?\n",
    "\n",
    "## Exercise 4\n",
    "The Fibonacci sequence is generated by adding the previous two terms in the sequence. Write a peice of code that will output the Fibonacci Sequence for a varible number of terms N. Can you modify this code into a function ```myfib```?\n",
    "\n",
    "$$ x_{n+2} = x_{n+1} + x_{n} $$\n",
    "\n",
    "\n",
    "## Exercise 5\n",
    "Write a function that converts temperatures from degrees celsius to fahrenheit. Can you modify the function so that it can convert between fahrenheit and celsius and vice versa with an option which specifies which conversion should take place?\n",
    "\n",
    "$$ c/4 = f - 32/9 $$\n",
    "\n",
    "\n",
    "---\n",
    "\n",
    "# Numpy Exercises\n",
    "\n",
    "**Note** that many of exercise below can be done with existing _numpy_ functionality without the need for loops, additional modules, or new functions. \n",
    "\n",
    "## Exercise 6\n",
    "\n",
    "For the 2D array without explicity entering it. \n",
    "```python\n",
    "arr = [[1,  6, 11],\n",
    "      [2,  7, 12],\n",
    "      [3,  8, 13],\n",
    "      [4,  9, 14],\n",
    "      [5, 10, 15]]\n",
    "```\n",
    "\n",
    "## Exercise 7\n",
    "\n",
    "The code below will read in the file _OlympicMedalCount.txt_. Using _numpy_ determine which country had: (a) the most gold (b) the most silver (c) the most bronze and (d) the most medals. Are the total number of gold, silver and bronze medals equal?\n",
    "```python\n",
    "country = np.genfromtxt(\"../data/OlympicMedalCount.txt\",delimiter=',', skip_header=1, dtype=None,usecols=(1,))\n",
    "medals = np.loadtxt(\"../data/OlympicMedalCount.txt\", usecols=(2,3,4), delimiter=',')\n",
    "```\n",
    "\n",
    "\n",
    "## Exercise 8\n",
    "\n",
    "Create a random vector of size n=100 (n should be a variable so you can easily change the number of inputs). Calculate the mean and standard deviation of the vector. **Hint**, _numpy_ has built in functions for random numbers, e.g., ```numpy.random``` as well as others for basic calculations.\n",
    "\n",
    "## Exercise 9\n",
    "\n",
    "Normalize the array from **Exercise 7** from 0 to 1 and from -1 to 1. Can you write a function that will normalize any input array with the option to normalize from [0,1] or [-1,1]?\n",
    "\n",
    "## Exercise 10\n",
    "\n",
    "Find the common values in the two arrays below. \n",
    "\n",
    "## Exercise 11\n",
    "\n",
    "Consider the random vector Z below. Replace the max value with 0 and min value with -1. \n",
    "```python\n",
    "Z = np.random.random(10)\n",
    "```\n",
    "\n",
    "## Exercise 12\n",
    "\n",
    "Subtract the mean from each row of the matrix below. \n",
    "```python\n",
    "X = np.random.rand(5, 10)\n",
    "```\n",
    "\n",
    "## Exercise 13\n",
    "\n",
    "Compute the dot product of the two vectors below. \n",
    "```python\n",
    "v1 = np.array([12.5,11,6.75])\n",
    "v2 = np.array([0,14.2,27])\n",
    "```\n",
    "\n",
    "\n",
    "\n",
    "\n",
    "\n",
    "\n",
    "\n",
    "\n",
    "\n"
   ]
  },
  {
   "cell_type": "code",
   "execution_count": null,
   "metadata": {
    "collapsed": true
   },
   "outputs": [],
   "source": []
  }
 ],
 "metadata": {
  "kernelspec": {
   "display_name": "Python 3",
   "language": "python",
   "name": "python3"
  },
  "language_info": {
   "codemirror_mode": {
    "name": "ipython",
    "version": 3
   },
   "file_extension": ".py",
   "mimetype": "text/x-python",
   "name": "python",
   "nbconvert_exporter": "python",
   "pygments_lexer": "ipython3",
   "version": "3.6.4"
  }
 },
 "nbformat": 4,
 "nbformat_minor": 2
}
